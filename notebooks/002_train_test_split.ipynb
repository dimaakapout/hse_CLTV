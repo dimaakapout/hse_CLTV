{
 "cells": [
  {
   "cell_type": "code",
   "execution_count": 2,
   "metadata": {},
   "outputs": [],
   "source": [
    "import pandas as pd\n",
    "import numpy as np\n",
    "import matplotlib.pyplot as plt\n",
    "import seaborn as sns\n",
    "import os\n",
    "from time import ctime\n",
    "import datetime as dt"
   ]
  },
  {
   "cell_type": "code",
   "execution_count": 8,
   "metadata": {},
   "outputs": [
    {
     "data": {
      "text/plain": [
       "'F:\\\\Downloads'"
      ]
     },
     "execution_count": 8,
     "metadata": {},
     "output_type": "execute_result"
    }
   ],
   "source": [
    "os.getcwd()"
   ]
  },
  {
   "cell_type": "code",
   "execution_count": 9,
   "metadata": {},
   "outputs": [],
   "source": [
    "os.chdir(r'F://Downloads/')"
   ]
  },
  {
   "cell_type": "code",
   "execution_count": 10,
   "metadata": {},
   "outputs": [],
   "source": [
    "# load data\n",
    "transactions = pd.read_csv('transactions_prep.csv') #global\n",
    "transactions['date'] = pd.to_datetime(transactions['date'])"
   ]
  },
  {
   "cell_type": "code",
   "execution_count": 16,
   "metadata": {},
   "outputs": [],
   "source": [
    "# startDate = pd.Timestamp(dt.date(2012, 3, 2)) + dt.timedelta(4*7*0*1)\n",
    "# endDate = startDate + dt.timedelta(4*7*2)\n",
    "# startDate2 = endDate + dt.timedelta(1)\n",
    "# endDate2 = startDate2 + dt.timedelta(14)"
   ]
  },
  {
   "cell_type": "code",
   "execution_count": 17,
   "metadata": {},
   "outputs": [],
   "source": [
    "def preprocessing(startDate, endDate, startDate2, endDates):\n",
    "    # endDates - массив с датами\n",
    "\n",
    "    # Отбираем нужный временной период\n",
    "    tempData = transactions[(transactions.date >= startDate) & (transactions.date <= endDate)] # global\n",
    "    tempData.sales = tempData.sales.apply(lambda x: -x if x < 0 else x)\n",
    "    \n",
    "    RFM = pd.DataFrame() # Инициализация новой таблицы\n",
    "    RFM['id'] = tempData.id.unique() # Список уникальных клиентов\n",
    "\n",
    "    # добавить в RFM дату последней покупки\n",
    "    RFM = RFM.merge(tempData.groupby('id', as_index=False)[['date']].last(), \n",
    "                left_on=['id'], right_on=['id']).rename(columns={'date':'last_date'})\n",
    "\n",
    "    # recency\n",
    "    maxdate = tempData.date.max()\n",
    "    RFM['recency'] = RFM.last_date.apply(lambda x: (maxdate - x).days)\n",
    "\n",
    "    # frequency\n",
    "    frequency = (tempData.groupby('id').date.count() - 1).rename('frequency') \n",
    "    RFM = RFM.merge(pd.DataFrame(frequency),\n",
    "                 left_on=['id'], right_on=['id']) \n",
    "\n",
    "    # monetary\n",
    "    monetary = tempData.groupby('id')['sales'].sum().rename('monetary')\n",
    "    RFM = RFM.merge(pd.DataFrame(monetary),\n",
    "                 left_on=['id'], right_on=['id']) \n",
    "\n",
    "    # Ср время между покупками\n",
    "    def func(a):\n",
    "        return (a.date.iloc[-1] - a.date.iloc[0]).days / a.date.shape[0]\n",
    "\n",
    "    av_time = tempData.groupby('id').apply(func).rename('average_time')\n",
    "    RFM = RFM.merge(pd.DataFrame(av_time),\n",
    "                    left_on=['id'], right_on=['id'])\n",
    "\n",
    "    # ср цена товара в корзине и ср цена чека\n",
    "    mean_sales = tempData.groupby('id')[['mean_sales', 'sales']].mean().rename(columns={'sales':'mean_sum_sales'})\n",
    "    RFM = RFM.merge(mean_sales, left_on='id', right_on='id')\n",
    "\n",
    "    # RFM.head(5)\n",
    "\n",
    "    RFM.index = RFM.id\n",
    "    RFM = RFM.drop('id', axis=1)\n",
    "    \n",
    "    # Рассчитываем CLTV\n",
    "    for endDate2, T in zip(endDates, evalutionsPeriods):\n",
    "        tempData = transactions[(transactions.date >= startDate2)&(transactions.date <= endDate2)]\n",
    "        # Оставляем ID только тех клиентов, абсолютно новые клиенты, появившиеся в TestPeriod не учитываются\n",
    "        newColName = 'CLTV_' + str(T)\n",
    "        RFM = RFM.merge(tempData.groupby('id').sales.sum().rename(newColName),\n",
    "                  right_on='id', left_on='id', how='left')\n",
    "        RFM[newColName] = RFM[newColName].fillna(0) # CLTV=0 для тех, кто покупал на trainPeriod и не покупал на TestPeriod\n",
    "    \n",
    "    return RFM"
   ]
  },
  {
   "cell_type": "code",
   "execution_count": 18,
   "metadata": {},
   "outputs": [],
   "source": [
    "def make_r(x):\n",
    "    if x <= 2:\n",
    "        return 1\n",
    "    elif x <= 4: ######14\n",
    "        return 2\n",
    "    else:\n",
    "        return 3\n",
    "\n",
    "def make_f(x):\n",
    "    if x <= 7:\n",
    "        return 3\n",
    "    elif x <= 14:\n",
    "        return 2\n",
    "    else:\n",
    "        return 1\n",
    "\n",
    "\n",
    "def make_m(x):\n",
    "    if x <= 300:\n",
    "        return 3\n",
    "    elif x <= 1000:\n",
    "        return 2\n",
    "    else:\n",
    "        return 1\n",
    "\n",
    "def make_rfm(datas):\n",
    "    datas['r'] = datas['recency'].apply(lambda x: make_r(x))\n",
    "    datas['f'] = datas['frequency'].apply(lambda x: make_f(x))\n",
    "    datas['m'] = datas['monetary'].apply(lambda x: make_m(x))\n",
    "    datas['rfm_group'] = datas.apply(lambda x: str(x['r']) + str(x['f']) + str(x['m']), axis=1)"
   ]
  },
  {
   "cell_type": "code",
   "execution_count": 19,
   "metadata": {},
   "outputs": [],
   "source": [
    "# create timelines\n",
    "\n",
    "fitPeriod = 7*4*2 # Длина временного промежутка, на котором учимся # 8 недель #global\n",
    "trainPeriods = [fitPeriod*i for i in range(0,3)] # Точки старта тренировочных периодов #global\n",
    "evalutionsPeriods = [2, 4, 6, 8] # 2,4,6,8 недель на оценку LTV\n",
    "\n",
    "\n",
    "# train\n",
    "trainStartDate = [pd.Timestamp(dt.date(2012, 3, 2)) + dt.timedelta(period) for period in trainPeriods]\n",
    "trainEndDate = [startDate + dt.timedelta(fitPeriod) for startDate in trainStartDate]\n",
    "\n",
    "# test\n",
    "testStartDate = [EndDate + dt.timedelta(1) for EndDate in trainEndDate]\n",
    "testEndDate = [[startDate + dt.timedelta(7*period) for period in evalutionsPeriods] for startDate in testStartDate]\n",
    "\n",
    "def make_data():\n",
    "    start = 0\n",
    "    for startDate, endDate, testStart,  testEnd in zip(trainStartDate, trainEndDate, testStartDate, testEndDate):\n",
    "        RFM = preprocessing(startDate, endDate, testStart, testEnd)\n",
    "        make_rfm(RFM)\n",
    "        data = RFM.drop(columns=['last_date', 'r', 'f', 'm'])\\\n",
    "                  .sort_index().reset_index(drop=True)\n",
    "        start += 1\n",
    "        name = 'XY_' + str(start) + '.csv'\n",
    "        data.to_csv(name, index=False)\n",
    "        \n",
    "        print(ctime() + '\\t'+ name + ' сохранено.')"
   ]
  },
  {
   "cell_type": "code",
   "execution_count": 20,
   "metadata": {},
   "outputs": [
    {
     "name": "stdout",
     "output_type": "stream",
     "text": [
      "Wed Oct 14 14:33:53 2020\tXY_1.csv сохранено.\n",
      "Wed Oct 14 14:34:13 2020\tXY_2.csv сохранено.\n",
      "Wed Oct 14 14:34:33 2020\tXY_3.csv сохранено.\n"
     ]
    }
   ],
   "source": [
    "make_data()"
   ]
  },
  {
   "cell_type": "code",
   "execution_count": null,
   "metadata": {},
   "outputs": [],
   "source": []
  },
  {
   "cell_type": "code",
   "execution_count": null,
   "metadata": {},
   "outputs": [],
   "source": []
  },
  {
   "cell_type": "code",
   "execution_count": null,
   "metadata": {},
   "outputs": [],
   "source": []
  },
  {
   "cell_type": "code",
   "execution_count": null,
   "metadata": {},
   "outputs": [],
   "source": []
  },
  {
   "cell_type": "code",
   "execution_count": null,
   "metadata": {},
   "outputs": [],
   "source": []
  },
  {
   "cell_type": "code",
   "execution_count": null,
   "metadata": {},
   "outputs": [],
   "source": []
  },
  {
   "cell_type": "code",
   "execution_count": null,
   "metadata": {},
   "outputs": [],
   "source": []
  },
  {
   "cell_type": "code",
   "execution_count": null,
   "metadata": {},
   "outputs": [],
   "source": []
  },
  {
   "cell_type": "code",
   "execution_count": null,
   "metadata": {},
   "outputs": [],
   "source": []
  },
  {
   "cell_type": "code",
   "execution_count": 82,
   "metadata": {},
   "outputs": [
    {
     "data": {
      "text/plain": [
       "(27,)"
      ]
     },
     "execution_count": 82,
     "metadata": {},
     "output_type": "execute_result"
    }
   ],
   "source": [
    "RFM.rfm_group.unique().shape"
   ]
  },
  {
   "cell_type": "code",
   "execution_count": 83,
   "metadata": {},
   "outputs": [
    {
     "data": {
      "text/plain": [
       "<AxesSubplot:>"
      ]
     },
     "execution_count": 83,
     "metadata": {},
     "output_type": "execute_result"
    },
    {
     "data": {
      "image/png": "[encoded data removed]",
      "text/plain": [
       "<Figure size 1080x288 with 1 Axes>"
      ]
     },
     "metadata": {
      "needs_background": "light"
     },
     "output_type": "display_data"
    }
   ],
   "source": [
    "plt.subplots(1,1, figsize=(15,4))\n",
    "RFM.rfm_group.hist(xrot=45)"
   ]
  },
  {
   "cell_type": "code",
   "execution_count": 84,
   "metadata": {},
   "outputs": [
    {
     "data": {
      "text/plain": [
       "(0.0, 9.0)"
      ]
     },
     "execution_count": 84,
     "metadata": {},
     "output_type": "execute_result"
    },
    {
     "data": {
      "image/png": "[encoded data removed]",
      "text/plain": [
       "<Figure size 720x720 with 2 Axes>"
      ]
     },
     "metadata": {
      "needs_background": "light"
     },
     "output_type": "display_data"
    }
   ],
   "source": [
    "temp = [np.zeros((3,3)), np.zeros((3,3)), np.zeros((3,3))]\n",
    "for r in range(0,3):\n",
    "    for m in range(0,3):\n",
    "        for f in range(0,3):\n",
    "            rfm_group = str(r+1) + str(f+1) + str(m+1)\n",
    "            try:\n",
    "                temp[r][m,f] = RFM.rfm_group.value_counts()[rfm_group]\n",
    "#                 print(rfm_group + ' = ' + str(temp[r][m,f]))\n",
    "            except:# KeyError:\n",
    "                temp[r][f,m] = 0\n",
    "a = np.vstack((temp[0], temp[1], temp[2]))\n",
    "\n",
    "fig, ax = plt.subplots(1,1, figsize=(10,10))\n",
    "ax = sns.heatmap(a, annot=True, fmt='.0f')\n",
    "ax.set_ylim([0,9])"
   ]
  },
  {
   "cell_type": "code",
   "execution_count": 616,
   "metadata": {},
   "outputs": [
    {
     "data": {
      "text/plain": [
       "array([[8.8080e+03, 9.0250e+03, 1.0362e+04],\n",
       "       [3.0380e+03, 6.6060e+03, 1.4936e+04],\n",
       "       [5.1700e+02, 1.8350e+03, 1.2844e+04],\n",
       "       [5.2500e+02, 2.1060e+03, 6.8680e+03],\n",
       "       [2.1200e+02, 1.3970e+03, 9.4140e+03],\n",
       "       [4.3000e+01, 4.0200e+02, 8.9180e+03],\n",
       "       [3.5000e+01, 2.0300e+02, 1.6370e+03],\n",
       "       [2.1000e+01, 2.2400e+02, 4.6810e+03],\n",
       "       [6.0000e+00, 1.0800e+02, 1.1351e+04]])"
      ]
     },
     "execution_count": 616,
     "metadata": {},
     "output_type": "execute_result"
    }
   ],
   "source": [
    "a"
   ]
  },
  {
   "cell_type": "code",
   "execution_count": null,
   "metadata": {},
   "outputs": [],
   "source": []
  },
  {
   "cell_type": "code",
   "execution_count": 3,
   "metadata": {},
   "outputs": [],
   "source": [
    "import numpy as np"
   ]
  },
  {
   "cell_type": "code",
   "execution_count": 5,
   "metadata": {},
   "outputs": [
    {
     "data": {
      "text/plain": [
       "array([[111., 121., 131.],\n",
       "       [112., 122., 132.],\n",
       "       [113., 123., 133.],\n",
       "       [211., 221., 231.],\n",
       "       [212., 222., 232.],\n",
       "       [213., 223., 233.],\n",
       "       [311., 321., 331.],\n",
       "       [312., 322., 332.],\n",
       "       [313., 323., 333.]])"
      ]
     },
     "execution_count": 5,
     "metadata": {},
     "output_type": "execute_result"
    }
   ],
   "source": [
    "temp = [np.zeros((3,3)), np.zeros((3,3)), np.zeros((3,3))]\n",
    "for r in range(0,3):\n",
    "    for m in range(0,3):\n",
    "        for f in range(0,3):\n",
    "            rfm_group = str(r+1) + str(f+1) + str(m+1)\n",
    "            try:\n",
    "                temp[r][m,f] = rfm_group             \n",
    "            except:# KeyError:\n",
    "                pass\n",
    "a = np.vstack((temp[0], temp[1], temp[2]))\n",
    "a"
   ]
  },
  {
   "cell_type": "code",
   "execution_count": 163,
   "metadata": {},
   "outputs": [
    {
     "name": "stderr",
     "output_type": "stream",
     "text": [
      "F:\\Anaconda3\\envs\\home\\lib\\site-packages\\pandas\\core\\generic.py:5168: SettingWithCopyWarning: \n",
      "A value is trying to be set on a copy of a slice from a DataFrame.\n",
      "Try using .loc[row_indexer,col_indexer] = value instead\n",
      "\n",
      "See the caveats in the documentation: https://pandas.pydata.org/pandas-docs/stable/user_guide/indexing.html#returning-a-view-versus-a-copy\n",
      "  self[name] = value\n"
     ]
    },
    {
     "name": "stdout",
     "output_type": "stream",
     "text": [
      "XY_1.csv\n"
     ]
    }
   ],
   "source": []
  },
  {
   "cell_type": "code",
   "execution_count": 164,
   "metadata": {},
   "outputs": [],
   "source": [
    "a = pd.read_csv('XY_1.csv')"
   ]
  },
  {
   "cell_type": "code",
   "execution_count": 165,
   "metadata": {},
   "outputs": [
    {
     "data": {
      "text/html": [
       "<div>\n",
       "<style scoped>\n",
       "    .dataframe tbody tr th:only-of-type {\n",
       "        vertical-align: middle;\n",
       "    }\n",
       "\n",
       "    .dataframe tbody tr th {\n",
       "        vertical-align: top;\n",
       "    }\n",
       "\n",
       "    .dataframe thead th {\n",
       "        text-align: right;\n",
       "    }\n",
       "</style>\n",
       "<table border=\"1\" class=\"dataframe\">\n",
       "  <thead>\n",
       "    <tr style=\"text-align: right;\">\n",
       "      <th></th>\n",
       "      <th>recency</th>\n",
       "      <th>frequency</th>\n",
       "      <th>monetary</th>\n",
       "      <th>average_time</th>\n",
       "      <th>mean_sales</th>\n",
       "      <th>mean_sum_sales</th>\n",
       "      <th>CLTV_2</th>\n",
       "      <th>CLTV_4</th>\n",
       "      <th>CLTV_6</th>\n",
       "      <th>CLTV_8</th>\n",
       "      <th>rfm_group</th>\n",
       "    </tr>\n",
       "  </thead>\n",
       "  <tbody>\n",
       "    <tr>\n",
       "      <th>0</th>\n",
       "      <td>0</td>\n",
       "      <td>51</td>\n",
       "      <td>3853.29</td>\n",
       "      <td>1.076923</td>\n",
       "      <td>4.011320</td>\n",
       "      <td>74.101731</td>\n",
       "      <td>1195.98</td>\n",
       "      <td>1645.71</td>\n",
       "      <td>2393.58</td>\n",
       "      <td>3697.48</td>\n",
       "      <td>111</td>\n",
       "    </tr>\n",
       "    <tr>\n",
       "      <th>1</th>\n",
       "      <td>0</td>\n",
       "      <td>55</td>\n",
       "      <td>4385.84</td>\n",
       "      <td>1.000000</td>\n",
       "      <td>4.364518</td>\n",
       "      <td>78.318571</td>\n",
       "      <td>1241.67</td>\n",
       "      <td>2441.17</td>\n",
       "      <td>3090.19</td>\n",
       "      <td>4167.64</td>\n",
       "      <td>111</td>\n",
       "    </tr>\n",
       "    <tr>\n",
       "      <th>2</th>\n",
       "      <td>0</td>\n",
       "      <td>25</td>\n",
       "      <td>456.12</td>\n",
       "      <td>2.153846</td>\n",
       "      <td>4.254613</td>\n",
       "      <td>17.543077</td>\n",
       "      <td>187.67</td>\n",
       "      <td>322.28</td>\n",
       "      <td>438.49</td>\n",
       "      <td>677.46</td>\n",
       "      <td>112</td>\n",
       "    </tr>\n",
       "    <tr>\n",
       "      <th>3</th>\n",
       "      <td>0</td>\n",
       "      <td>19</td>\n",
       "      <td>398.88</td>\n",
       "      <td>2.800000</td>\n",
       "      <td>3.837531</td>\n",
       "      <td>19.944000</td>\n",
       "      <td>78.41</td>\n",
       "      <td>192.98</td>\n",
       "      <td>272.76</td>\n",
       "      <td>380.37</td>\n",
       "      <td>112</td>\n",
       "    </tr>\n",
       "    <tr>\n",
       "      <th>4</th>\n",
       "      <td>1</td>\n",
       "      <td>15</td>\n",
       "      <td>525.75</td>\n",
       "      <td>3.437500</td>\n",
       "      <td>4.221691</td>\n",
       "      <td>32.859375</td>\n",
       "      <td>100.37</td>\n",
       "      <td>211.69</td>\n",
       "      <td>306.33</td>\n",
       "      <td>416.33</td>\n",
       "      <td>112</td>\n",
       "    </tr>\n",
       "    <tr>\n",
       "      <th>...</th>\n",
       "      <td>...</td>\n",
       "      <td>...</td>\n",
       "      <td>...</td>\n",
       "      <td>...</td>\n",
       "      <td>...</td>\n",
       "      <td>...</td>\n",
       "      <td>...</td>\n",
       "      <td>...</td>\n",
       "      <td>...</td>\n",
       "      <td>...</td>\n",
       "      <td>...</td>\n",
       "    </tr>\n",
       "    <tr>\n",
       "      <th>114668</th>\n",
       "      <td>0</td>\n",
       "      <td>0</td>\n",
       "      <td>9.78</td>\n",
       "      <td>0.000000</td>\n",
       "      <td>3.260000</td>\n",
       "      <td>9.780000</td>\n",
       "      <td>0.00</td>\n",
       "      <td>0.00</td>\n",
       "      <td>10.27</td>\n",
       "      <td>19.85</td>\n",
       "      <td>133</td>\n",
       "    </tr>\n",
       "    <tr>\n",
       "      <th>114669</th>\n",
       "      <td>0</td>\n",
       "      <td>0</td>\n",
       "      <td>40.68</td>\n",
       "      <td>0.000000</td>\n",
       "      <td>10.170000</td>\n",
       "      <td>40.680000</td>\n",
       "      <td>0.00</td>\n",
       "      <td>0.00</td>\n",
       "      <td>0.00</td>\n",
       "      <td>0.00</td>\n",
       "      <td>133</td>\n",
       "    </tr>\n",
       "    <tr>\n",
       "      <th>114670</th>\n",
       "      <td>0</td>\n",
       "      <td>0</td>\n",
       "      <td>49.43</td>\n",
       "      <td>0.000000</td>\n",
       "      <td>3.089375</td>\n",
       "      <td>49.430000</td>\n",
       "      <td>0.00</td>\n",
       "      <td>61.06</td>\n",
       "      <td>109.68</td>\n",
       "      <td>168.92</td>\n",
       "      <td>133</td>\n",
       "    </tr>\n",
       "    <tr>\n",
       "      <th>114671</th>\n",
       "      <td>0</td>\n",
       "      <td>0</td>\n",
       "      <td>17.14</td>\n",
       "      <td>0.000000</td>\n",
       "      <td>1.714000</td>\n",
       "      <td>17.140000</td>\n",
       "      <td>0.00</td>\n",
       "      <td>0.00</td>\n",
       "      <td>0.00</td>\n",
       "      <td>0.00</td>\n",
       "      <td>133</td>\n",
       "    </tr>\n",
       "    <tr>\n",
       "      <th>114672</th>\n",
       "      <td>0</td>\n",
       "      <td>0</td>\n",
       "      <td>14.45</td>\n",
       "      <td>0.000000</td>\n",
       "      <td>2.408333</td>\n",
       "      <td>14.450000</td>\n",
       "      <td>38.25</td>\n",
       "      <td>51.79</td>\n",
       "      <td>71.71</td>\n",
       "      <td>102.91</td>\n",
       "      <td>133</td>\n",
       "    </tr>\n",
       "  </tbody>\n",
       "</table>\n",
       "<p>114673 rows × 11 columns</p>\n",
       "</div>"
      ],
      "text/plain": [
       "        recency  frequency  monetary  average_time  mean_sales  \\\n",
       "0             0         51   3853.29      1.076923    4.011320   \n",
       "1             0         55   4385.84      1.000000    4.364518   \n",
       "2             0         25    456.12      2.153846    4.254613   \n",
       "3             0         19    398.88      2.800000    3.837531   \n",
       "4             1         15    525.75      3.437500    4.221691   \n",
       "...         ...        ...       ...           ...         ...   \n",
       "114668        0          0      9.78      0.000000    3.260000   \n",
       "114669        0          0     40.68      0.000000   10.170000   \n",
       "114670        0          0     49.43      0.000000    3.089375   \n",
       "114671        0          0     17.14      0.000000    1.714000   \n",
       "114672        0          0     14.45      0.000000    2.408333   \n",
       "\n",
       "        mean_sum_sales   CLTV_2   CLTV_4   CLTV_6   CLTV_8  rfm_group  \n",
       "0            74.101731  1195.98  1645.71  2393.58  3697.48        111  \n",
       "1            78.318571  1241.67  2441.17  3090.19  4167.64        111  \n",
       "2            17.543077   187.67   322.28   438.49   677.46        112  \n",
       "3            19.944000    78.41   192.98   272.76   380.37        112  \n",
       "4            32.859375   100.37   211.69   306.33   416.33        112  \n",
       "...                ...      ...      ...      ...      ...        ...  \n",
       "114668        9.780000     0.00     0.00    10.27    19.85        133  \n",
       "114669       40.680000     0.00     0.00     0.00     0.00        133  \n",
       "114670       49.430000     0.00    61.06   109.68   168.92        133  \n",
       "114671       17.140000     0.00     0.00     0.00     0.00        133  \n",
       "114672       14.450000    38.25    51.79    71.71   102.91        133  \n",
       "\n",
       "[114673 rows x 11 columns]"
      ]
     },
     "execution_count": 165,
     "metadata": {},
     "output_type": "execute_result"
    }
   ],
   "source": [
    "a"
   ]
  },
  {
   "cell_type": "code",
   "execution_count": null,
   "metadata": {},
   "outputs": [],
   "source": []
  },
  {
   "cell_type": "code",
   "execution_count": null,
   "metadata": {},
   "outputs": [],
   "source": []
  },
  {
   "cell_type": "code",
   "execution_count": 152,
   "metadata": {},
   "outputs": [
    {
     "name": "stdout",
     "output_type": "stream",
     "text": [
      "XY_11.csv\n",
      "XY_12.csv\n",
      "XY_13.csv\n",
      "XY_14.csv\n",
      "XY_21.csv\n",
      "XY_22.csv\n",
      "XY_23.csv\n",
      "XY_24.csv\n",
      "XY_31.csv\n",
      "XY_32.csv\n",
      "XY_33.csv\n",
      "XY_34.csv\n"
     ]
    }
   ],
   "source": [
    "RFM = preprocessing(startDate, endDate, testStart, testEnd)\n",
    "make_rfm(RFM)\n",
    "\n",
    "start = 0\n",
    "\n",
    "for startDate, endDate, testStart, testEnds in zip(trainStartDate, trainEndDate, testStartDate, testEndDate):\n",
    "    start += 1\n",
    "    val_set = 0 # Для подписи\n",
    "    for testEnd in testEnds:\n",
    "        val_set += 1\n",
    "        name = 'XY_' + str(start) + str(val_set) + '.csv'\n",
    "        print(name)\n",
    "#         RFM = preprocessing(startDate, endDate, testStart, testEnd)\n",
    "#         make_rfm(RFM)\n",
    "#         data = RFM.drop(columns=['last_date', 'r', 'f', 'm'])\\\n",
    "#                   .sort_index().reset_index(drop=True)\n",
    "#         print(ctime(), '\\ttestEnd\\t', testEnd, ' посчитано.')\n",
    "        #data.to_csv(name)"
   ]
  },
  {
   "cell_type": "code",
   "execution_count": 149,
   "metadata": {},
   "outputs": [
    {
     "data": {
      "text/html": [
       "<div>\n",
       "<style scoped>\n",
       "    .dataframe tbody tr th:only-of-type {\n",
       "        vertical-align: middle;\n",
       "    }\n",
       "\n",
       "    .dataframe tbody tr th {\n",
       "        vertical-align: top;\n",
       "    }\n",
       "\n",
       "    .dataframe thead th {\n",
       "        text-align: right;\n",
       "    }\n",
       "</style>\n",
       "<table border=\"1\" class=\"dataframe\">\n",
       "  <thead>\n",
       "    <tr style=\"text-align: right;\">\n",
       "      <th></th>\n",
       "      <th>recency</th>\n",
       "      <th>frequency</th>\n",
       "      <th>monetary</th>\n",
       "      <th>average_time</th>\n",
       "      <th>mean_sales</th>\n",
       "      <th>mean_sum_sales</th>\n",
       "      <th>CLTV</th>\n",
       "      <th>rfm_group</th>\n",
       "    </tr>\n",
       "  </thead>\n",
       "  <tbody>\n",
       "    <tr>\n",
       "      <th>0</th>\n",
       "      <td>0</td>\n",
       "      <td>51</td>\n",
       "      <td>3853.29</td>\n",
       "      <td>1.076923</td>\n",
       "      <td>4.011320</td>\n",
       "      <td>74.101731</td>\n",
       "      <td>1195.98</td>\n",
       "      <td>111</td>\n",
       "    </tr>\n",
       "    <tr>\n",
       "      <th>1</th>\n",
       "      <td>0</td>\n",
       "      <td>55</td>\n",
       "      <td>4385.84</td>\n",
       "      <td>1.000000</td>\n",
       "      <td>4.364518</td>\n",
       "      <td>78.318571</td>\n",
       "      <td>1241.67</td>\n",
       "      <td>111</td>\n",
       "    </tr>\n",
       "    <tr>\n",
       "      <th>2</th>\n",
       "      <td>0</td>\n",
       "      <td>25</td>\n",
       "      <td>456.12</td>\n",
       "      <td>2.153846</td>\n",
       "      <td>4.254613</td>\n",
       "      <td>17.543077</td>\n",
       "      <td>187.67</td>\n",
       "      <td>112</td>\n",
       "    </tr>\n",
       "    <tr>\n",
       "      <th>3</th>\n",
       "      <td>0</td>\n",
       "      <td>19</td>\n",
       "      <td>398.88</td>\n",
       "      <td>2.800000</td>\n",
       "      <td>3.837531</td>\n",
       "      <td>19.944000</td>\n",
       "      <td>78.41</td>\n",
       "      <td>112</td>\n",
       "    </tr>\n",
       "    <tr>\n",
       "      <th>4</th>\n",
       "      <td>1</td>\n",
       "      <td>15</td>\n",
       "      <td>525.75</td>\n",
       "      <td>3.437500</td>\n",
       "      <td>4.221691</td>\n",
       "      <td>32.859375</td>\n",
       "      <td>100.37</td>\n",
       "      <td>112</td>\n",
       "    </tr>\n",
       "    <tr>\n",
       "      <th>...</th>\n",
       "      <td>...</td>\n",
       "      <td>...</td>\n",
       "      <td>...</td>\n",
       "      <td>...</td>\n",
       "      <td>...</td>\n",
       "      <td>...</td>\n",
       "      <td>...</td>\n",
       "      <td>...</td>\n",
       "    </tr>\n",
       "    <tr>\n",
       "      <th>114668</th>\n",
       "      <td>0</td>\n",
       "      <td>0</td>\n",
       "      <td>9.78</td>\n",
       "      <td>0.000000</td>\n",
       "      <td>3.260000</td>\n",
       "      <td>9.780000</td>\n",
       "      <td>0.00</td>\n",
       "      <td>133</td>\n",
       "    </tr>\n",
       "    <tr>\n",
       "      <th>114669</th>\n",
       "      <td>0</td>\n",
       "      <td>0</td>\n",
       "      <td>40.68</td>\n",
       "      <td>0.000000</td>\n",
       "      <td>10.170000</td>\n",
       "      <td>40.680000</td>\n",
       "      <td>0.00</td>\n",
       "      <td>133</td>\n",
       "    </tr>\n",
       "    <tr>\n",
       "      <th>114670</th>\n",
       "      <td>0</td>\n",
       "      <td>0</td>\n",
       "      <td>49.43</td>\n",
       "      <td>0.000000</td>\n",
       "      <td>3.089375</td>\n",
       "      <td>49.430000</td>\n",
       "      <td>0.00</td>\n",
       "      <td>133</td>\n",
       "    </tr>\n",
       "    <tr>\n",
       "      <th>114671</th>\n",
       "      <td>0</td>\n",
       "      <td>0</td>\n",
       "      <td>17.14</td>\n",
       "      <td>0.000000</td>\n",
       "      <td>1.714000</td>\n",
       "      <td>17.140000</td>\n",
       "      <td>0.00</td>\n",
       "      <td>133</td>\n",
       "    </tr>\n",
       "    <tr>\n",
       "      <th>114672</th>\n",
       "      <td>0</td>\n",
       "      <td>0</td>\n",
       "      <td>14.45</td>\n",
       "      <td>0.000000</td>\n",
       "      <td>2.408333</td>\n",
       "      <td>14.450000</td>\n",
       "      <td>38.25</td>\n",
       "      <td>133</td>\n",
       "    </tr>\n",
       "  </tbody>\n",
       "</table>\n",
       "<p>114673 rows × 8 columns</p>\n",
       "</div>"
      ],
      "text/plain": [
       "        recency  frequency  monetary  average_time  mean_sales  \\\n",
       "0             0         51   3853.29      1.076923    4.011320   \n",
       "1             0         55   4385.84      1.000000    4.364518   \n",
       "2             0         25    456.12      2.153846    4.254613   \n",
       "3             0         19    398.88      2.800000    3.837531   \n",
       "4             1         15    525.75      3.437500    4.221691   \n",
       "...         ...        ...       ...           ...         ...   \n",
       "114668        0          0      9.78      0.000000    3.260000   \n",
       "114669        0          0     40.68      0.000000   10.170000   \n",
       "114670        0          0     49.43      0.000000    3.089375   \n",
       "114671        0          0     17.14      0.000000    1.714000   \n",
       "114672        0          0     14.45      0.000000    2.408333   \n",
       "\n",
       "        mean_sum_sales     CLTV rfm_group  \n",
       "0            74.101731  1195.98       111  \n",
       "1            78.318571  1241.67       111  \n",
       "2            17.543077   187.67       112  \n",
       "3            19.944000    78.41       112  \n",
       "4            32.859375   100.37       112  \n",
       "...                ...      ...       ...  \n",
       "114668        9.780000     0.00       133  \n",
       "114669       40.680000     0.00       133  \n",
       "114670       49.430000     0.00       133  \n",
       "114671       17.140000     0.00       133  \n",
       "114672       14.450000    38.25       133  \n",
       "\n",
       "[114673 rows x 8 columns]"
      ]
     },
     "execution_count": 149,
     "metadata": {},
     "output_type": "execute_result"
    }
   ],
   "source": [
    "data"
   ]
  },
  {
   "cell_type": "code",
   "execution_count": 119,
   "metadata": {},
   "outputs": [],
   "source": [
    "# create timelines\n",
    "\n",
    "fitPeriod = 7*4*2 # Длина временного промежутка, на котором учимся # 8 недель #global\n",
    "trainPeriods = [fitPeriod*i for i in range(0,3)] # Точки старта тренировочных периодов #global\n",
    "evalutionsPeriods = [2, 4, 6, 8] # 2,4,6,8 недель на оценку LTV\n",
    "\n",
    "\n",
    "# train\n",
    "trainStartDate = [pd.Timestamp(dt.date(2012, 3, 2)) + dt.timedelta(period) for period in trainPeriods]\n",
    "trainEndDate = [startDate + dt.timedelta(fitPeriod) for startDate in trainStartDate]\n",
    "\n",
    "# test\n",
    "testStartDate = [EndDate + dt.timedelta(1) for EndDate in trainEndDate]\n",
    "testEndDate = [[startDate + dt.timedelta(7*period) for period in evalutionsPeriods] for startDate in testStartDate]\n",
    "\n",
    "for trainPeriod in trainPeriods:\n",
    "\n",
    "\n",
    "\n",
    "RFM = preprocessing(startDate, endDate, startDate2, endDate2)\n",
    "make_rfm(RFM)\n",
    "\n",
    "for rfm in RFM.rfm_group.unique():\n",
    "    # сформировать X and Y\n",
    "    Xtrain = RFM[RFM.rfm_group == rfm].drop(columns=['last_date', 'r', 'f', 'm', 'rfm_group', 'CLTV'])\\\n",
    "                                      .sort_index().reset_index(drop=True)\n",
    "    ytrain = RFM[RFM.rfm_group == rfm][['CLTV']].sort_index().reset_index(drop=True)"
   ]
  },
  {
   "cell_type": "code",
   "execution_count": 114,
   "metadata": {},
   "outputs": [],
   "source": []
  },
  {
   "cell_type": "code",
   "execution_count": 21,
   "metadata": {},
   "outputs": [
    {
     "data": {
      "text/plain": [
       "array([1195.98, 1241.67,  319.12, ...,  382.62,   92.  ,  414.07])"
      ]
     },
     "execution_count": 21,
     "metadata": {},
     "output_type": "execute_result"
    }
   ],
   "source": [
    "ytrain.values"
   ]
  },
  {
   "cell_type": "code",
   "execution_count": 40,
   "metadata": {},
   "outputs": [
    {
     "data": {
      "text/plain": [
       "array([   113,    214,    302, ..., 106338, 106390, 108122], dtype=int64)"
      ]
     },
     "execution_count": 40,
     "metadata": {},
     "output_type": "execute_result"
    }
   ],
   "source": [
    "transactions[transactions.sales <= 0].id.unique()"
   ]
  },
  {
   "cell_type": "code",
   "execution_count": 41,
   "metadata": {},
   "outputs": [
    {
     "data": {
      "text/plain": [
       "(116925,)"
      ]
     },
     "execution_count": 41,
     "metadata": {},
     "output_type": "execute_result"
    }
   ],
   "source": [
    "transactions.id.unique().shape"
   ]
  },
  {
   "cell_type": "code",
   "execution_count": 57,
   "metadata": {},
   "outputs": [
    {
     "data": {
      "text/plain": [
       "-1347.9799999999996"
      ]
     },
     "execution_count": 57,
     "metadata": {},
     "output_type": "execute_result"
    }
   ],
   "source": [
    "transactions[(transactions.date >= startDate)&(transactions.date <= endDate)].groupby('id').sales.sum().min()"
   ]
  },
  {
   "cell_type": "code",
   "execution_count": null,
   "metadata": {},
   "outputs": [],
   "source": []
  },
  {
   "cell_type": "code",
   "execution_count": null,
   "metadata": {},
   "outputs": [],
   "source": []
  },
  {
   "cell_type": "code",
   "execution_count": 42,
   "metadata": {},
   "outputs": [
    {
     "data": {
      "text/html": [
       "<div>\n",
       "<style scoped>\n",
       "    .dataframe tbody tr th:only-of-type {\n",
       "        vertical-align: middle;\n",
       "    }\n",
       "\n",
       "    .dataframe tbody tr th {\n",
       "        vertical-align: top;\n",
       "    }\n",
       "\n",
       "    .dataframe thead th {\n",
       "        text-align: right;\n",
       "    }\n",
       "</style>\n",
       "<table border=\"1\" class=\"dataframe\">\n",
       "  <thead>\n",
       "    <tr style=\"text-align: right;\">\n",
       "      <th></th>\n",
       "      <th>date</th>\n",
       "      <th>id</th>\n",
       "      <th>mean_sales</th>\n",
       "      <th>sales</th>\n",
       "    </tr>\n",
       "  </thead>\n",
       "  <tbody>\n",
       "    <tr>\n",
       "      <th>112</th>\n",
       "      <td>2012-03-02</td>\n",
       "      <td>113</td>\n",
       "      <td>-4.950000</td>\n",
       "      <td>-4.95</td>\n",
       "    </tr>\n",
       "    <tr>\n",
       "      <th>972363</th>\n",
       "      <td>2012-04-10</td>\n",
       "      <td>113</td>\n",
       "      <td>8.355455</td>\n",
       "      <td>183.82</td>\n",
       "    </tr>\n",
       "    <tr>\n",
       "      <th>1212238</th>\n",
       "      <td>2012-04-20</td>\n",
       "      <td>113</td>\n",
       "      <td>5.735000</td>\n",
       "      <td>11.47</td>\n",
       "    </tr>\n",
       "    <tr>\n",
       "      <th>1410794</th>\n",
       "      <td>2012-04-28</td>\n",
       "      <td>113</td>\n",
       "      <td>8.738235</td>\n",
       "      <td>297.10</td>\n",
       "    </tr>\n",
       "    <tr>\n",
       "      <th>1644425</th>\n",
       "      <td>2012-05-07</td>\n",
       "      <td>113</td>\n",
       "      <td>12.232500</td>\n",
       "      <td>48.93</td>\n",
       "    </tr>\n",
       "    <tr>\n",
       "      <th>1716352</th>\n",
       "      <td>2012-05-10</td>\n",
       "      <td>113</td>\n",
       "      <td>15.980000</td>\n",
       "      <td>15.98</td>\n",
       "    </tr>\n",
       "    <tr>\n",
       "      <th>1825544</th>\n",
       "      <td>2012-05-14</td>\n",
       "      <td>113</td>\n",
       "      <td>18.780000</td>\n",
       "      <td>37.56</td>\n",
       "    </tr>\n",
       "    <tr>\n",
       "      <th>1949303</th>\n",
       "      <td>2012-05-19</td>\n",
       "      <td>113</td>\n",
       "      <td>6.669706</td>\n",
       "      <td>226.77</td>\n",
       "    </tr>\n",
       "    <tr>\n",
       "      <th>2078349</th>\n",
       "      <td>2012-05-24</td>\n",
       "      <td>113</td>\n",
       "      <td>5.307143</td>\n",
       "      <td>74.30</td>\n",
       "    </tr>\n",
       "    <tr>\n",
       "      <th>2494661</th>\n",
       "      <td>2012-06-09</td>\n",
       "      <td>113</td>\n",
       "      <td>6.126207</td>\n",
       "      <td>355.32</td>\n",
       "    </tr>\n",
       "    <tr>\n",
       "      <th>2622280</th>\n",
       "      <td>2012-06-14</td>\n",
       "      <td>113</td>\n",
       "      <td>4.490000</td>\n",
       "      <td>4.49</td>\n",
       "    </tr>\n",
       "    <tr>\n",
       "      <th>3677947</th>\n",
       "      <td>2012-07-25</td>\n",
       "      <td>113</td>\n",
       "      <td>13.980000</td>\n",
       "      <td>13.98</td>\n",
       "    </tr>\n",
       "    <tr>\n",
       "      <th>4162373</th>\n",
       "      <td>2012-08-13</td>\n",
       "      <td>113</td>\n",
       "      <td>8.310769</td>\n",
       "      <td>216.08</td>\n",
       "    </tr>\n",
       "    <tr>\n",
       "      <th>4340470</th>\n",
       "      <td>2012-08-20</td>\n",
       "      <td>113</td>\n",
       "      <td>6.735000</td>\n",
       "      <td>13.47</td>\n",
       "    </tr>\n",
       "    <tr>\n",
       "      <th>5160784</th>\n",
       "      <td>2012-09-21</td>\n",
       "      <td>113</td>\n",
       "      <td>9.366667</td>\n",
       "      <td>56.20</td>\n",
       "    </tr>\n",
       "    <tr>\n",
       "      <th>5548673</th>\n",
       "      <td>2012-10-06</td>\n",
       "      <td>113</td>\n",
       "      <td>4.560952</td>\n",
       "      <td>95.78</td>\n",
       "    </tr>\n",
       "    <tr>\n",
       "      <th>5908951</th>\n",
       "      <td>2012-10-20</td>\n",
       "      <td>113</td>\n",
       "      <td>7.936364</td>\n",
       "      <td>261.90</td>\n",
       "    </tr>\n",
       "    <tr>\n",
       "      <th>6198488</th>\n",
       "      <td>2012-10-31</td>\n",
       "      <td>113</td>\n",
       "      <td>6.490000</td>\n",
       "      <td>12.98</td>\n",
       "    </tr>\n",
       "    <tr>\n",
       "      <th>6222112</th>\n",
       "      <td>2012-11-01</td>\n",
       "      <td>113</td>\n",
       "      <td>3.990000</td>\n",
       "      <td>3.99</td>\n",
       "    </tr>\n",
       "    <tr>\n",
       "      <th>6380022</th>\n",
       "      <td>2012-11-07</td>\n",
       "      <td>113</td>\n",
       "      <td>5.850952</td>\n",
       "      <td>122.87</td>\n",
       "    </tr>\n",
       "    <tr>\n",
       "      <th>6838842</th>\n",
       "      <td>2012-11-24</td>\n",
       "      <td>113</td>\n",
       "      <td>6.190000</td>\n",
       "      <td>80.47</td>\n",
       "    </tr>\n",
       "    <tr>\n",
       "      <th>7197269</th>\n",
       "      <td>2012-12-08</td>\n",
       "      <td>113</td>\n",
       "      <td>8.946250</td>\n",
       "      <td>214.71</td>\n",
       "    </tr>\n",
       "    <tr>\n",
       "      <th>7328863</th>\n",
       "      <td>2012-12-13</td>\n",
       "      <td>113</td>\n",
       "      <td>5.680000</td>\n",
       "      <td>22.72</td>\n",
       "    </tr>\n",
       "    <tr>\n",
       "      <th>7381021</th>\n",
       "      <td>2012-12-15</td>\n",
       "      <td>113</td>\n",
       "      <td>-0.583333</td>\n",
       "      <td>-3.50</td>\n",
       "    </tr>\n",
       "    <tr>\n",
       "      <th>7943835</th>\n",
       "      <td>2013-01-05</td>\n",
       "      <td>113</td>\n",
       "      <td>5.194815</td>\n",
       "      <td>140.26</td>\n",
       "    </tr>\n",
       "    <tr>\n",
       "      <th>8310215</th>\n",
       "      <td>2013-01-19</td>\n",
       "      <td>113</td>\n",
       "      <td>8.315833</td>\n",
       "      <td>199.58</td>\n",
       "    </tr>\n",
       "    <tr>\n",
       "      <th>8415568</th>\n",
       "      <td>2013-01-23</td>\n",
       "      <td>113</td>\n",
       "      <td>3.180000</td>\n",
       "      <td>6.36</td>\n",
       "    </tr>\n",
       "    <tr>\n",
       "      <th>8548524</th>\n",
       "      <td>2013-01-28</td>\n",
       "      <td>113</td>\n",
       "      <td>4.484545</td>\n",
       "      <td>98.66</td>\n",
       "    </tr>\n",
       "    <tr>\n",
       "      <th>8962353</th>\n",
       "      <td>2013-02-13</td>\n",
       "      <td>113</td>\n",
       "      <td>6.930000</td>\n",
       "      <td>235.62</td>\n",
       "    </tr>\n",
       "    <tr>\n",
       "      <th>8990632</th>\n",
       "      <td>2013-02-14</td>\n",
       "      <td>113</td>\n",
       "      <td>5.980000</td>\n",
       "      <td>5.98</td>\n",
       "    </tr>\n",
       "    <tr>\n",
       "      <th>9148521</th>\n",
       "      <td>2013-02-20</td>\n",
       "      <td>113</td>\n",
       "      <td>4.862727</td>\n",
       "      <td>106.98</td>\n",
       "    </tr>\n",
       "    <tr>\n",
       "      <th>9535617</th>\n",
       "      <td>2013-03-07</td>\n",
       "      <td>113</td>\n",
       "      <td>12.459231</td>\n",
       "      <td>161.97</td>\n",
       "    </tr>\n",
       "    <tr>\n",
       "      <th>9922793</th>\n",
       "      <td>2013-03-23</td>\n",
       "      <td>113</td>\n",
       "      <td>5.810698</td>\n",
       "      <td>249.86</td>\n",
       "    </tr>\n",
       "  </tbody>\n",
       "</table>\n",
       "</div>"
      ],
      "text/plain": [
       "              date   id  mean_sales   sales\n",
       "112     2012-03-02  113   -4.950000   -4.95\n",
       "972363  2012-04-10  113    8.355455  183.82\n",
       "1212238 2012-04-20  113    5.735000   11.47\n",
       "1410794 2012-04-28  113    8.738235  297.10\n",
       "1644425 2012-05-07  113   12.232500   48.93\n",
       "1716352 2012-05-10  113   15.980000   15.98\n",
       "1825544 2012-05-14  113   18.780000   37.56\n",
       "1949303 2012-05-19  113    6.669706  226.77\n",
       "2078349 2012-05-24  113    5.307143   74.30\n",
       "2494661 2012-06-09  113    6.126207  355.32\n",
       "2622280 2012-06-14  113    4.490000    4.49\n",
       "3677947 2012-07-25  113   13.980000   13.98\n",
       "4162373 2012-08-13  113    8.310769  216.08\n",
       "4340470 2012-08-20  113    6.735000   13.47\n",
       "5160784 2012-09-21  113    9.366667   56.20\n",
       "5548673 2012-10-06  113    4.560952   95.78\n",
       "5908951 2012-10-20  113    7.936364  261.90\n",
       "6198488 2012-10-31  113    6.490000   12.98\n",
       "6222112 2012-11-01  113    3.990000    3.99\n",
       "6380022 2012-11-07  113    5.850952  122.87\n",
       "6838842 2012-11-24  113    6.190000   80.47\n",
       "7197269 2012-12-08  113    8.946250  214.71\n",
       "7328863 2012-12-13  113    5.680000   22.72\n",
       "7381021 2012-12-15  113   -0.583333   -3.50\n",
       "7943835 2013-01-05  113    5.194815  140.26\n",
       "8310215 2013-01-19  113    8.315833  199.58\n",
       "8415568 2013-01-23  113    3.180000    6.36\n",
       "8548524 2013-01-28  113    4.484545   98.66\n",
       "8962353 2013-02-13  113    6.930000  235.62\n",
       "8990632 2013-02-14  113    5.980000    5.98\n",
       "9148521 2013-02-20  113    4.862727  106.98\n",
       "9535617 2013-03-07  113   12.459231  161.97\n",
       "9922793 2013-03-23  113    5.810698  249.86"
      ]
     },
     "execution_count": 42,
     "metadata": {},
     "output_type": "execute_result"
    }
   ],
   "source": [
    "transactions[transactions.id == 113]"
   ]
  },
  {
   "cell_type": "code",
   "execution_count": 23,
   "metadata": {},
   "outputs": [],
   "source": [
    "import sklearn\n",
    "from sklearn.linear_model import LinearRegression, SGDRegressor, Lasso\n",
    "from sklearn.ensemble import RandomForestRegressor, GradientBoostingRegressor\n",
    "from sklearn.metrics import mean_absolute_error, r2_score"
   ]
  },
  {
   "cell_type": "code",
   "execution_count": 24,
   "metadata": {},
   "outputs": [
    {
     "data": {
      "text/plain": [
       "LinearRegression()"
      ]
     },
     "execution_count": 24,
     "metadata": {},
     "output_type": "execute_result"
    }
   ],
   "source": [
    "modelLinReg = LinearRegression()\n",
    "modelLinReg.fit(Xtrain, ytrain)\n",
    "\n",
    "# modelRF = RandomForestRegressor(max_depth=10, n_estimators=100)\n",
    "# modelRF.fit(Xtrain, ytrain)\n",
    "\n",
    "# modelGrBoost = GradientBoostingRegressor()\n",
    "# modelGrBoost.fit(Xtrain, ytrain)\n",
    "\n",
    "# # stacking\n",
    "# class custommodel:\n",
    "#     def __init__(self, *args):\n",
    "#         self.models = args\n",
    "#     def predict(self, x):\n",
    "#         return np.array([m.predict(x) for m in self.models[0]]).mean(axis=0) # смешаем в пропорции 50/50\n",
    "    \n",
    "# _ = custommodel([modelRF, modelGrBoost])\n",
    "\n",
    "# # Мешок моделей\n",
    "# bagWithModels = {'model_name':('LinReg', 'RF', 'GrBoost', 'RF+GrBoost'),  \n",
    "#                 'models': (modelLinReg, modelRF, modelGrBoost, _)}"
   ]
  },
  {
   "cell_type": "code",
   "execution_count": 25,
   "metadata": {},
   "outputs": [
    {
     "data": {
      "text/plain": [
       "array([2467.44579187, 2911.07312402,  603.29102224, ..., -200.43776753,\n",
       "       -436.20491041, -376.33724697])"
      ]
     },
     "execution_count": 25,
     "metadata": {},
     "output_type": "execute_result"
    }
   ],
   "source": [
    "_.predict(Xtrain)"
   ]
  },
  {
   "cell_type": "code",
   "execution_count": 51,
   "metadata": {},
   "outputs": [
    {
     "data": {
      "text/plain": [
       "0.0"
      ]
     },
     "execution_count": 51,
     "metadata": {},
     "output_type": "execute_result"
    }
   ],
   "source": [
    "ytrain.min()"
   ]
  },
  {
   "cell_type": "code",
   "execution_count": null,
   "metadata": {},
   "outputs": [],
   "source": []
  },
  {
   "cell_type": "code",
   "execution_count": null,
   "metadata": {},
   "outputs": [],
   "source": []
  },
  {
   "cell_type": "code",
   "execution_count": null,
   "metadata": {},
   "outputs": [],
   "source": []
  },
  {
   "cell_type": "code",
   "execution_count": 49,
   "metadata": {},
   "outputs": [
    {
     "data": {
      "text/plain": [
       "array([0.        , 0.        , 0.        , 0.        , 0.        ,\n",
       "       0.        , 0.        , 0.        , 0.        , 0.        ,\n",
       "       0.        , 0.        , 0.        , 0.82496648, 0.        ,\n",
       "       0.        , 0.        , 0.        , 0.        , 0.        ,\n",
       "       0.        , 0.        , 0.        , 0.        , 0.        ,\n",
       "       0.        , 0.        , 0.        , 0.        , 0.        ,\n",
       "       0.        , 0.        , 0.        , 0.        , 0.        ,\n",
       "       0.        , 0.        , 0.        , 0.        , 0.        ,\n",
       "       0.        , 0.        , 0.        , 0.        , 0.        ,\n",
       "       0.        , 0.        , 0.        , 0.        , 0.        ,\n",
       "       0.        , 0.        , 0.        , 0.1196632 , 0.        ,\n",
       "       0.        , 0.        , 0.        , 0.        , 0.        ,\n",
       "       0.        , 0.        , 0.        , 0.        , 0.        ,\n",
       "       0.        , 0.        , 0.        , 0.        , 0.        ,\n",
       "       0.        , 0.        , 0.        , 0.        , 0.        ,\n",
       "       0.        , 0.        , 0.        , 0.        , 0.        ,\n",
       "       0.        , 0.        , 0.        , 0.        , 0.        ,\n",
       "       0.        , 0.        , 0.        , 0.        , 0.        ,\n",
       "       0.        , 0.        , 0.        , 0.        , 0.        ,\n",
       "       0.        , 0.        , 0.        , 0.        , 0.        ,\n",
       "       0.        , 0.        , 0.        , 0.        , 0.        ,\n",
       "       0.        , 0.        , 0.        , 0.        , 0.        ,\n",
       "       0.        , 0.        , 0.        , 0.        , 0.        ,\n",
       "       0.        , 0.        , 0.        , 0.        , 0.        ,\n",
       "       0.        , 0.        , 0.        , 0.        , 0.        ,\n",
       "       0.        , 0.        , 0.        , 0.        , 0.        ,\n",
       "       0.        , 0.        , 0.        , 0.        , 0.        ,\n",
       "       0.        , 0.        , 0.        , 0.        , 0.        ,\n",
       "       0.        , 0.        , 0.        , 0.        , 0.        ,\n",
       "       0.        , 0.        , 0.        , 0.        , 0.        ,\n",
       "       0.        , 0.        , 0.        , 0.        , 0.        ,\n",
       "       0.        , 0.        , 0.        , 0.        , 0.        ,\n",
       "       0.        , 0.        , 0.        , 0.        , 0.        ,\n",
       "       0.        , 0.        , 0.        , 0.        , 0.        ,\n",
       "       0.        , 0.        , 0.        , 0.        , 0.        ,\n",
       "       0.        , 0.        , 0.        , 0.        , 0.        ,\n",
       "       0.        , 0.        , 0.        , 0.        , 0.        ,\n",
       "       0.        , 0.        , 0.        , 0.        , 0.        ,\n",
       "       0.        , 0.        , 0.        , 0.        , 0.        ,\n",
       "       0.        , 0.        , 0.        , 0.        , 0.        ,\n",
       "       0.        , 0.        , 0.        , 0.        , 0.        ,\n",
       "       0.        , 0.        , 0.        , 0.        , 0.        ,\n",
       "       0.        , 0.        , 0.        , 0.        , 0.        ,\n",
       "       0.        , 0.        , 0.        , 0.        , 0.        ,\n",
       "       0.        , 0.        , 0.        , 0.        , 0.        ,\n",
       "       0.        , 0.        , 0.        , 0.        , 0.        ,\n",
       "       0.        , 0.        , 0.        , 0.        , 0.        ,\n",
       "       0.        , 0.        , 0.        , 0.        , 0.        ,\n",
       "       0.        , 0.        , 0.        , 0.        , 0.        ,\n",
       "       0.        , 0.        , 0.        , 0.        , 0.        ,\n",
       "       0.        , 0.        , 0.        , 0.        , 0.        ,\n",
       "       0.        , 0.        , 0.        , 0.        , 0.        ,\n",
       "       0.        , 0.        , 0.        , 0.        , 0.        ,\n",
       "       0.        , 0.        , 0.        , 0.        , 0.        ,\n",
       "       0.        , 0.        , 0.        , 0.        , 0.        ,\n",
       "       0.        , 0.        , 0.        , 0.        , 0.        ,\n",
       "       0.        , 0.        , 0.        , 0.        , 0.        ,\n",
       "       0.        , 0.        , 0.        , 0.        , 0.        ,\n",
       "       0.        , 0.        , 0.        , 0.        , 0.        ,\n",
       "       0.        , 0.64337043, 0.        , 0.        , 0.        ,\n",
       "       0.        , 0.        , 0.        , 0.        , 0.        ,\n",
       "       0.        , 0.        , 0.        , 0.        , 0.        ,\n",
       "       0.        , 0.        , 0.        , 0.        , 0.        ,\n",
       "       0.        , 0.        , 0.        , 0.        , 0.        ,\n",
       "       0.        , 0.        , 0.        , 0.        , 0.        ,\n",
       "       0.        , 0.        , 0.        , 0.        , 0.        ,\n",
       "       0.        , 0.        , 0.        , 0.        , 0.        ,\n",
       "       0.        , 0.        , 0.        , 0.        , 0.        ,\n",
       "       0.        , 0.        , 0.        , 0.        , 0.        ,\n",
       "       0.        , 0.        , 0.        , 0.        , 0.        ,\n",
       "       0.        , 0.        , 0.        , 0.        , 0.        ,\n",
       "       0.        , 0.        , 0.        , 0.        , 0.        ,\n",
       "       0.        , 0.        ])"
      ]
     },
     "execution_count": 49,
     "metadata": {},
     "output_type": "execute_result"
    }
   ],
   "source": [
    "vfunc(modelLinReg.predict(Xtrain))[vfunc(modelLinReg.predict(Xtrain))<1]"
   ]
  },
  {
   "cell_type": "code",
   "execution_count": 50,
   "metadata": {},
   "outputs": [
    {
     "data": {
      "text/plain": [
       "0.5988365010887039"
      ]
     },
     "execution_count": 50,
     "metadata": {},
     "output_type": "execute_result"
    }
   ],
   "source": [
    "np.log(0.82+1)"
   ]
  },
  {
   "cell_type": "code",
   "execution_count": 65,
   "metadata": {},
   "outputs": [],
   "source": [
    "# Некоторые модели предсказывают отрицательные LTV\n",
    "# Поэтому в таких предсказаниях нужно заменять отрицательные значения на ноль\n",
    "\n",
    "def func(x):\n",
    "    return x if x>=0 else 0\n",
    "vfunc = np.vectorize(func)\n",
    "\n",
    "# RMSLE function\n",
    "\n",
    "def rmsle(ytrue, ypred):\n",
    "    '''\n",
    "    Parameters:\n",
    "    -------\n",
    "        ytrue, ypred: pandas.Series or  numpy.array\n",
    "    \n",
    "    Returns\n",
    "    -------\n",
    "    float\n",
    "    '''\n",
    "    return np.sqrt(((np.log(ypred + 1) - np.log(ytrue + 1))**2).mean())\n"
   ]
  },
  {
   "cell_type": "code",
   "execution_count": 66,
   "metadata": {},
   "outputs": [
    {
     "name": "stderr",
     "output_type": "stream",
     "text": [
      "<ipython-input-65-c58127081623>:20: RuntimeWarning: invalid value encountered in log\n",
      "  return np.sqrt(((np.log(ypred + 1) - np.log(ytrue + 1))**2).mean())\n"
     ]
    },
    {
     "data": {
      "text/plain": [
       "nan"
      ]
     },
     "execution_count": 66,
     "metadata": {},
     "output_type": "execute_result"
    }
   ],
   "source": [
    "rmsle(vfunc(ytrain), modelLinReg.predict(Xtrain))"
   ]
  },
  {
   "cell_type": "code",
   "execution_count": 708,
   "metadata": {},
   "outputs": [
    {
     "data": {
      "text/plain": [
       "1.0173295992869897"
      ]
     },
     "execution_count": 708,
     "metadata": {},
     "output_type": "execute_result"
    }
   ],
   "source": [
    "rmsle(vfunc(ytrain.values.ravel()), vfunc(modelLinReg.predict(Xtrain)))"
   ]
  },
  {
   "cell_type": "code",
   "execution_count": 709,
   "metadata": {},
   "outputs": [
    {
     "data": {
      "text/plain": [
       "array([510.20454087, 733.87557567, 355.59404877, ..., 279.03890235,\n",
       "       380.85262274, 309.76073669])"
      ]
     },
     "execution_count": 709,
     "metadata": {},
     "output_type": "execute_result"
    }
   ],
   "source": [
    "vfunc(modelGrBoost.predict(Xtrain))"
   ]
  },
  {
   "cell_type": "code",
   "execution_count": 703,
   "metadata": {},
   "outputs": [
    {
     "data": {
      "text/plain": [
       "array([ 543.19, 1026.71,  554.39, ...,  217.13,  300.25,  325.61])"
      ]
     },
     "execution_count": 703,
     "metadata": {},
     "output_type": "execute_result"
    }
   ],
   "source": [
    "vfunc(ytrain.values.ravel())"
   ]
  },
  {
   "cell_type": "code",
   "execution_count": null,
   "metadata": {},
   "outputs": [],
   "source": []
  },
  {
   "cell_type": "code",
   "execution_count": null,
   "metadata": {},
   "outputs": [],
   "source": []
  },
  {
   "cell_type": "code",
   "execution_count": null,
   "metadata": {},
   "outputs": [],
   "source": []
  },
  {
   "cell_type": "code",
   "execution_count": 696,
   "metadata": {},
   "outputs": [
    {
     "data": {
      "text/plain": [
       "array([ 543.19, 1026.71,  554.39, ...,  217.13,  300.25,  325.61])"
      ]
     },
     "execution_count": 696,
     "metadata": {},
     "output_type": "execute_result"
    }
   ],
   "source": [
    "ytrain.values.ravel()"
   ]
  },
  {
   "cell_type": "code",
   "execution_count": 694,
   "metadata": {},
   "outputs": [
    {
     "data": {
      "text/plain": [
       "array([544.17632359, 745.4260377 , 356.20307172, ..., 278.01084713,\n",
       "       384.890547  , 316.64951246])"
      ]
     },
     "execution_count": 694,
     "metadata": {},
     "output_type": "execute_result"
    }
   ],
   "source": [
    "modelRF.predict(Xtrain)"
   ]
  },
  {
   "cell_type": "code",
   "execution_count": null,
   "metadata": {},
   "outputs": [],
   "source": [
    "\n",
    "\n",
    "\n",
    "\n",
    "def fastEval(model, x, y):\n",
    "    '''Обучения и метрика быстро, для отладки'''\n",
    "    model.fit(x,y)\n",
    "    y_pr = vfunc(model.predict(x))\n",
    "    return rmsle(y, y_pr)\n",
    "\n",
    "metrics = (rmsle, mean_absolute_error, r2_score)\n",
    "metric_names = ('RMSLE', 'MAE', 'R2')\n",
    "yTrues = (yTrue_train, yTrue_test, yTrue_val)\n",
    "_names = ('_train', '_test', '_val')\n",
    "X = (Xtrain, Xtest, Xval)\n",
    "\n",
    "shape = (len(bagWithModels['model_name']), len(metric_names)*len(_names)) #(rows, cols)\n",
    "summary = pd.DataFrame(np.zeros(shape).reshape(shape), \n",
    "             columns=[mn+n for mn in metric_names for n in _names],\n",
    "             index=bagWithModels['model_name'])\n",
    "\n",
    "# Для каждой модели вычисляем метрики на train, test, val\n",
    "for model, model_name in zip(bagWithModels['models'], bagWithModels['model_name']):\n",
    "    for metric, metric_name in zip(metrics, metric_names):\n",
    "        for yTrue, x, _name in zip(yTrues, X, _names):\n",
    "            print(model_name, _name)\n",
    "            yPred = vfunc(model.predict(x)) # Делаем предсказание !vfunc!\n",
    "            summary.loc[model_name][metric_name+_name] = metric(yTrue, yPred) # Вычисляем метрику"
   ]
  },
  {
   "cell_type": "code",
   "execution_count": null,
   "metadata": {},
   "outputs": [],
   "source": []
  },
  {
   "cell_type": "code",
   "execution_count": null,
   "metadata": {},
   "outputs": [],
   "source": []
  },
  {
   "cell_type": "code",
   "execution_count": null,
   "metadata": {},
   "outputs": [],
   "source": []
  },
  {
   "cell_type": "code",
   "execution_count": 57,
   "metadata": {},
   "outputs": [],
   "source": [
    "Xtrain = transactions[transactions.date < trainEndDate] # train"
   ]
  },
  {
   "cell_type": "code",
   "execution_count": 62,
   "metadata": {},
   "outputs": [],
   "source": [
    "y_train = Xtrain.groupby('id').sales.sum().rename('CLTV') # Строка Y которую надо предсказать для каждого клиента"
   ]
  },
  {
   "cell_type": "code",
   "execution_count": 63,
   "metadata": {},
   "outputs": [],
   "source": [
    "ltv_train = y_train.sum() # Сумма всех LTV общая"
   ]
  },
  {
   "cell_type": "code",
   "execution_count": 67,
   "metadata": {},
   "outputs": [
    {
     "data": {
      "text/html": [
       "<div>\n",
       "<style scoped>\n",
       "    .dataframe tbody tr th:only-of-type {\n",
       "        vertical-align: middle;\n",
       "    }\n",
       "\n",
       "    .dataframe tbody tr th {\n",
       "        vertical-align: top;\n",
       "    }\n",
       "\n",
       "    .dataframe thead th {\n",
       "        text-align: right;\n",
       "    }\n",
       "</style>\n",
       "<table border=\"1\" class=\"dataframe\">\n",
       "  <thead>\n",
       "    <tr style=\"text-align: right;\">\n",
       "      <th></th>\n",
       "      <th>date</th>\n",
       "      <th>id</th>\n",
       "      <th>chain</th>\n",
       "      <th>mean_sales</th>\n",
       "      <th>sales</th>\n",
       "      <th>month</th>\n",
       "      <th>day_of_week</th>\n",
       "      <th>day</th>\n",
       "      <th>year</th>\n",
       "      <th>dataType</th>\n",
       "    </tr>\n",
       "  </thead>\n",
       "  <tbody>\n",
       "    <tr>\n",
       "      <th>0</th>\n",
       "      <td>2012-03-02</td>\n",
       "      <td>1</td>\n",
       "      <td>205</td>\n",
       "      <td>4.048269</td>\n",
       "      <td>210.51</td>\n",
       "      <td>3</td>\n",
       "      <td>4</td>\n",
       "      <td>2</td>\n",
       "      <td>2012</td>\n",
       "      <td>0</td>\n",
       "    </tr>\n",
       "    <tr>\n",
       "      <th>1</th>\n",
       "      <td>2012-03-02</td>\n",
       "      <td>2</td>\n",
       "      <td>205</td>\n",
       "      <td>4.049118</td>\n",
       "      <td>137.67</td>\n",
       "      <td>3</td>\n",
       "      <td>4</td>\n",
       "      <td>2</td>\n",
       "      <td>2012</td>\n",
       "      <td>0</td>\n",
       "    </tr>\n",
       "    <tr>\n",
       "      <th>2</th>\n",
       "      <td>2012-03-02</td>\n",
       "      <td>3</td>\n",
       "      <td>95</td>\n",
       "      <td>2.437273</td>\n",
       "      <td>26.81</td>\n",
       "      <td>3</td>\n",
       "      <td>4</td>\n",
       "      <td>2</td>\n",
       "      <td>2012</td>\n",
       "      <td>0</td>\n",
       "    </tr>\n",
       "    <tr>\n",
       "      <th>3</th>\n",
       "      <td>2012-03-02</td>\n",
       "      <td>4</td>\n",
       "      <td>4</td>\n",
       "      <td>5.140000</td>\n",
       "      <td>15.42</td>\n",
       "      <td>3</td>\n",
       "      <td>4</td>\n",
       "      <td>2</td>\n",
       "      <td>2012</td>\n",
       "      <td>0</td>\n",
       "    </tr>\n",
       "    <tr>\n",
       "      <th>4</th>\n",
       "      <td>2012-03-02</td>\n",
       "      <td>5</td>\n",
       "      <td>18</td>\n",
       "      <td>8.870000</td>\n",
       "      <td>8.87</td>\n",
       "      <td>3</td>\n",
       "      <td>4</td>\n",
       "      <td>2</td>\n",
       "      <td>2012</td>\n",
       "      <td>0</td>\n",
       "    </tr>\n",
       "    <tr>\n",
       "      <th>...</th>\n",
       "      <td>...</td>\n",
       "      <td>...</td>\n",
       "      <td>...</td>\n",
       "      <td>...</td>\n",
       "      <td>...</td>\n",
       "      <td>...</td>\n",
       "      <td>...</td>\n",
       "      <td>...</td>\n",
       "      <td>...</td>\n",
       "      <td>...</td>\n",
       "    </tr>\n",
       "    <tr>\n",
       "      <th>48752</th>\n",
       "      <td>2012-04-26</td>\n",
       "      <td>605</td>\n",
       "      <td>15</td>\n",
       "      <td>3.990000</td>\n",
       "      <td>3.99</td>\n",
       "      <td>4</td>\n",
       "      <td>6</td>\n",
       "      <td>22</td>\n",
       "      <td>2012</td>\n",
       "      <td>2</td>\n",
       "    </tr>\n",
       "    <tr>\n",
       "      <th>48753</th>\n",
       "      <td>2012-04-26</td>\n",
       "      <td>559</td>\n",
       "      <td>17</td>\n",
       "      <td>4.907500</td>\n",
       "      <td>39.26</td>\n",
       "      <td>4</td>\n",
       "      <td>6</td>\n",
       "      <td>22</td>\n",
       "      <td>2012</td>\n",
       "      <td>2</td>\n",
       "    </tr>\n",
       "    <tr>\n",
       "      <th>48754</th>\n",
       "      <td>2012-04-26</td>\n",
       "      <td>576</td>\n",
       "      <td>15</td>\n",
       "      <td>8.226000</td>\n",
       "      <td>41.13</td>\n",
       "      <td>4</td>\n",
       "      <td>6</td>\n",
       "      <td>22</td>\n",
       "      <td>2012</td>\n",
       "      <td>2</td>\n",
       "    </tr>\n",
       "    <tr>\n",
       "      <th>48755</th>\n",
       "      <td>2012-04-26</td>\n",
       "      <td>561</td>\n",
       "      <td>95</td>\n",
       "      <td>2.802000</td>\n",
       "      <td>28.02</td>\n",
       "      <td>4</td>\n",
       "      <td>6</td>\n",
       "      <td>22</td>\n",
       "      <td>2012</td>\n",
       "      <td>2</td>\n",
       "    </tr>\n",
       "    <tr>\n",
       "      <th>48756</th>\n",
       "      <td>2012-04-26</td>\n",
       "      <td>521</td>\n",
       "      <td>88</td>\n",
       "      <td>4.509091</td>\n",
       "      <td>49.60</td>\n",
       "      <td>4</td>\n",
       "      <td>6</td>\n",
       "      <td>22</td>\n",
       "      <td>2012</td>\n",
       "      <td>1</td>\n",
       "    </tr>\n",
       "  </tbody>\n",
       "</table>\n",
       "<p>7081 rows × 10 columns</p>\n",
       "</div>"
      ],
      "text/plain": [
       "            date   id  chain  mean_sales   sales  month  day_of_week  day  \\\n",
       "0     2012-03-02    1    205    4.048269  210.51      3            4    2   \n",
       "1     2012-03-02    2    205    4.049118  137.67      3            4    2   \n",
       "2     2012-03-02    3     95    2.437273   26.81      3            4    2   \n",
       "3     2012-03-02    4      4    5.140000   15.42      3            4    2   \n",
       "4     2012-03-02    5     18    8.870000    8.87      3            4    2   \n",
       "...          ...  ...    ...         ...     ...    ...          ...  ...   \n",
       "48752 2012-04-26  605     15    3.990000    3.99      4            6   22   \n",
       "48753 2012-04-26  559     17    4.907500   39.26      4            6   22   \n",
       "48754 2012-04-26  576     15    8.226000   41.13      4            6   22   \n",
       "48755 2012-04-26  561     95    2.802000   28.02      4            6   22   \n",
       "48756 2012-04-26  521     88    4.509091   49.60      4            6   22   \n",
       "\n",
       "       year  dataType  \n",
       "0      2012         0  \n",
       "1      2012         0  \n",
       "2      2012         0  \n",
       "3      2012         0  \n",
       "4      2012         0  \n",
       "...     ...       ...  \n",
       "48752  2012         2  \n",
       "48753  2012         2  \n",
       "48754  2012         2  \n",
       "48755  2012         2  \n",
       "48756  2012         1  \n",
       "\n",
       "[7081 rows x 10 columns]"
      ]
     },
     "execution_count": 67,
     "metadata": {},
     "output_type": "execute_result"
    }
   ],
   "source": [
    "Xtrain"
   ]
  },
  {
   "cell_type": "code",
   "execution_count": 66,
   "metadata": {},
   "outputs": [],
   "source": [
    "data = transactions.sort_values(by=['date', 'id'])"
   ]
  },
  {
   "cell_type": "code",
   "execution_count": 67,
   "metadata": {},
   "outputs": [
    {
     "data": {
      "text/html": [
       "<div>\n",
       "<style scoped>\n",
       "    .dataframe tbody tr th:only-of-type {\n",
       "        vertical-align: middle;\n",
       "    }\n",
       "\n",
       "    .dataframe tbody tr th {\n",
       "        vertical-align: top;\n",
       "    }\n",
       "\n",
       "    .dataframe thead th {\n",
       "        text-align: right;\n",
       "    }\n",
       "</style>\n",
       "<table border=\"1\" class=\"dataframe\">\n",
       "  <thead>\n",
       "    <tr style=\"text-align: right;\">\n",
       "      <th></th>\n",
       "      <th>id</th>\n",
       "      <th>date</th>\n",
       "      <th>recency</th>\n",
       "      <th>frequency</th>\n",
       "      <th>monetary</th>\n",
       "      <th>average_time</th>\n",
       "    </tr>\n",
       "  </thead>\n",
       "  <tbody>\n",
       "    <tr>\n",
       "      <th>0</th>\n",
       "      <td>1</td>\n",
       "      <td>2013-04-23</td>\n",
       "      <td>7</td>\n",
       "      <td>381</td>\n",
       "      <td>52828.12</td>\n",
       "      <td>1.094488</td>\n",
       "    </tr>\n",
       "    <tr>\n",
       "      <th>1</th>\n",
       "      <td>2</td>\n",
       "      <td>2013-03-26</td>\n",
       "      <td>35</td>\n",
       "      <td>368</td>\n",
       "      <td>53592.90</td>\n",
       "      <td>1.057065</td>\n",
       "    </tr>\n",
       "    <tr>\n",
       "      <th>2</th>\n",
       "      <td>3</td>\n",
       "      <td>2013-04-30</td>\n",
       "      <td>0</td>\n",
       "      <td>203</td>\n",
       "      <td>3581.86</td>\n",
       "      <td>2.088670</td>\n",
       "    </tr>\n",
       "    <tr>\n",
       "      <th>3</th>\n",
       "      <td>4</td>\n",
       "      <td>2013-04-27</td>\n",
       "      <td>3</td>\n",
       "      <td>143</td>\n",
       "      <td>3317.97</td>\n",
       "      <td>2.944056</td>\n",
       "    </tr>\n",
       "    <tr>\n",
       "      <th>4</th>\n",
       "      <td>5</td>\n",
       "      <td>2013-03-21</td>\n",
       "      <td>40</td>\n",
       "      <td>141</td>\n",
       "      <td>3383.84</td>\n",
       "      <td>2.723404</td>\n",
       "    </tr>\n",
       "  </tbody>\n",
       "</table>\n",
       "</div>"
      ],
      "text/plain": [
       "   id       date  recency  frequency  monetary  average_time\n",
       "0   1 2013-04-23        7        381  52828.12      1.094488\n",
       "1   2 2013-03-26       35        368  53592.90      1.057065\n",
       "2   3 2013-04-30        0        203   3581.86      2.088670\n",
       "3   4 2013-04-27        3        143   3317.97      2.944056\n",
       "4   5 2013-03-21       40        141   3383.84      2.723404"
      ]
     },
     "execution_count": 67,
     "metadata": {},
     "output_type": "execute_result"
    }
   ],
   "source": [
    "data = transactions.sort_values(by=['date', 'id'])\n",
    "RFM = pd.DataFrame()\n",
    "RFM['id'] = data.id.unique() # Список уникальных клиентов\n",
    "# добавить в RFM дату последней покупки\n",
    "RFM = RFM.merge(data.groupby('id', as_index=False)[['date']].last(), left_on=['id'], right_on=['id'])\n",
    "\n",
    "# recency\n",
    "maxdate = data.date.max()\n",
    "RFM['recency'] = RFM.date.apply(lambda x: (maxdate - x).days)\n",
    "\n",
    "# frequency\n",
    "frequency = data.groupby('id').apply(lambda x: x.shape[0]).rename('frequency') \n",
    "RFM = RFM.merge(pd.DataFrame(frequency),\n",
    "                left_on=['id'], right_on=['id']) \n",
    "\n",
    "# monetary\n",
    "monetary = data.groupby('id')['sales'].sum().rename('monetary')\n",
    "RFM = RFM.merge(pd.DataFrame(monetary),\n",
    "                left_on=['id'], right_on=['id']) \n",
    "\n",
    "# Ср время между покупками\n",
    "def func(a):\n",
    "    return (a.date.iloc[-1] - a.date.iloc[0]).days / a.date.shape[0]\n",
    "\n",
    "av_time = data.groupby('id').apply(func).rename('average_time')\n",
    "# monetary = data.groupby('id')['sales'].sum().rename('monetary')\n",
    "RFM = RFM.merge(pd.DataFrame(av_time),\n",
    "                left_on=['id'], right_on=['id'])\n",
    "\n",
    "RFM.head(5)"
   ]
  },
  {
   "cell_type": "code",
   "execution_count": 69,
   "metadata": {},
   "outputs": [
    {
     "data": {
      "text/html": [
       "<div>\n",
       "<style scoped>\n",
       "    .dataframe tbody tr th:only-of-type {\n",
       "        vertical-align: middle;\n",
       "    }\n",
       "\n",
       "    .dataframe tbody tr th {\n",
       "        vertical-align: top;\n",
       "    }\n",
       "\n",
       "    .dataframe thead th {\n",
       "        text-align: right;\n",
       "    }\n",
       "</style>\n",
       "<table border=\"1\" class=\"dataframe\">\n",
       "  <thead>\n",
       "    <tr style=\"text-align: right;\">\n",
       "      <th></th>\n",
       "      <th>id</th>\n",
       "      <th>date</th>\n",
       "      <th>recency</th>\n",
       "      <th>frequency</th>\n",
       "      <th>monetary</th>\n",
       "      <th>average_time</th>\n",
       "    </tr>\n",
       "  </thead>\n",
       "  <tbody>\n",
       "    <tr>\n",
       "      <th>0</th>\n",
       "      <td>1</td>\n",
       "      <td>2013-04-23</td>\n",
       "      <td>7</td>\n",
       "      <td>381</td>\n",
       "      <td>52828.12</td>\n",
       "      <td>1.094488</td>\n",
       "    </tr>\n",
       "    <tr>\n",
       "      <th>1</th>\n",
       "      <td>2</td>\n",
       "      <td>2013-03-26</td>\n",
       "      <td>35</td>\n",
       "      <td>368</td>\n",
       "      <td>53592.90</td>\n",
       "      <td>1.057065</td>\n",
       "    </tr>\n",
       "    <tr>\n",
       "      <th>2</th>\n",
       "      <td>3</td>\n",
       "      <td>2013-04-30</td>\n",
       "      <td>0</td>\n",
       "      <td>203</td>\n",
       "      <td>3581.86</td>\n",
       "      <td>2.088670</td>\n",
       "    </tr>\n",
       "    <tr>\n",
       "      <th>3</th>\n",
       "      <td>4</td>\n",
       "      <td>2013-04-27</td>\n",
       "      <td>3</td>\n",
       "      <td>143</td>\n",
       "      <td>3317.97</td>\n",
       "      <td>2.944056</td>\n",
       "    </tr>\n",
       "    <tr>\n",
       "      <th>4</th>\n",
       "      <td>5</td>\n",
       "      <td>2013-03-21</td>\n",
       "      <td>40</td>\n",
       "      <td>141</td>\n",
       "      <td>3383.84</td>\n",
       "      <td>2.723404</td>\n",
       "    </tr>\n",
       "    <tr>\n",
       "      <th>...</th>\n",
       "      <td>...</td>\n",
       "      <td>...</td>\n",
       "      <td>...</td>\n",
       "      <td>...</td>\n",
       "      <td>...</td>\n",
       "      <td>...</td>\n",
       "    </tr>\n",
       "    <tr>\n",
       "      <th>607</th>\n",
       "      <td>503</td>\n",
       "      <td>2013-03-30</td>\n",
       "      <td>31</td>\n",
       "      <td>18</td>\n",
       "      <td>953.40</td>\n",
       "      <td>8.777778</td>\n",
       "    </tr>\n",
       "    <tr>\n",
       "      <th>608</th>\n",
       "      <td>611</td>\n",
       "      <td>2013-04-30</td>\n",
       "      <td>0</td>\n",
       "      <td>45</td>\n",
       "      <td>1363.44</td>\n",
       "      <td>3.266667</td>\n",
       "    </tr>\n",
       "    <tr>\n",
       "      <th>609</th>\n",
       "      <td>504</td>\n",
       "      <td>2013-04-20</td>\n",
       "      <td>10</td>\n",
       "      <td>22</td>\n",
       "      <td>1496.46</td>\n",
       "      <td>5.590909</td>\n",
       "    </tr>\n",
       "    <tr>\n",
       "      <th>610</th>\n",
       "      <td>612</td>\n",
       "      <td>2013-04-25</td>\n",
       "      <td>5</td>\n",
       "      <td>22</td>\n",
       "      <td>1409.49</td>\n",
       "      <td>5.727273</td>\n",
       "    </tr>\n",
       "    <tr>\n",
       "      <th>611</th>\n",
       "      <td>90</td>\n",
       "      <td>2013-03-31</td>\n",
       "      <td>30</td>\n",
       "      <td>6</td>\n",
       "      <td>186.42</td>\n",
       "      <td>3.666667</td>\n",
       "    </tr>\n",
       "  </tbody>\n",
       "</table>\n",
       "<p>612 rows × 6 columns</p>\n",
       "</div>"
      ],
      "text/plain": [
       "      id       date  recency  frequency  monetary  average_time\n",
       "0      1 2013-04-23        7        381  52828.12      1.094488\n",
       "1      2 2013-03-26       35        368  53592.90      1.057065\n",
       "2      3 2013-04-30        0        203   3581.86      2.088670\n",
       "3      4 2013-04-27        3        143   3317.97      2.944056\n",
       "4      5 2013-03-21       40        141   3383.84      2.723404\n",
       "..   ...        ...      ...        ...       ...           ...\n",
       "607  503 2013-03-30       31         18    953.40      8.777778\n",
       "608  611 2013-04-30        0         45   1363.44      3.266667\n",
       "609  504 2013-04-20       10         22   1496.46      5.590909\n",
       "610  612 2013-04-25        5         22   1409.49      5.727273\n",
       "611   90 2013-03-31       30          6    186.42      3.666667\n",
       "\n",
       "[612 rows x 6 columns]"
      ]
     },
     "execution_count": 69,
     "metadata": {},
     "output_type": "execute_result"
    }
   ],
   "source": [
    "RFM"
   ]
  },
  {
   "cell_type": "code",
   "execution_count": 85,
   "metadata": {},
   "outputs": [],
   "source": [
    "idx = RFM.index"
   ]
  },
  {
   "cell_type": "code",
   "execution_count": 86,
   "metadata": {},
   "outputs": [
    {
     "data": {
      "text/plain": [
       "Int64Index([  0,   1,   2,   3,   4,   5,   6,   7,   8,   9,\n",
       "            ...\n",
       "            602, 603, 604, 605, 606, 607, 608, 609, 610, 611],\n",
       "           dtype='int64', length=612)"
      ]
     },
     "execution_count": 86,
     "metadata": {},
     "output_type": "execute_result"
    }
   ],
   "source": [
    "idx"
   ]
  },
  {
   "cell_type": "code",
   "execution_count": null,
   "metadata": {},
   "outputs": [],
   "source": []
  },
  {
   "cell_type": "code",
   "execution_count": 8,
   "metadata": {},
   "outputs": [],
   "source": [
    "def make_r(x):\n",
    "    if x <= 3:\n",
    "        return 1\n",
    "    elif x <= 10: ######14\n",
    "        return 2\n",
    "    else:\n",
    "        return 3\n",
    "\n",
    "def make_f(x):\n",
    "    if x <= 8:\n",
    "        return 3\n",
    "    elif x <= 12:\n",
    "        return 2\n",
    "    else:\n",
    "        return 1\n",
    "\n",
    "\n",
    "def make_m(x):\n",
    "    if x <= 500:\n",
    "        return 3\n",
    "    elif x <= 1500:\n",
    "        return 2\n",
    "    else:\n",
    "        return 1\n",
    "\n",
    "def make_rfm(datas):\n",
    "    datas['r'] = datas['recency'].apply(lambda x: make_r(x))\n",
    "    datas['f'] = datas['frequency'].apply(lambda x: make_f(x))\n",
    "    datas['m'] = datas['monetary'].apply(lambda x: make_m(x))\n",
    "    datas['rfm_group'] = datas.apply(lambda x: str(x['r']) + str(x['f']) + str(x['m']), axis=1)"
   ]
  },
  {
   "cell_type": "code",
   "execution_count": 9,
   "metadata": {},
   "outputs": [
    {
     "data": {
      "text/html": [
       "<div>\n",
       "<style scoped>\n",
       "    .dataframe tbody tr th:only-of-type {\n",
       "        vertical-align: middle;\n",
       "    }\n",
       "\n",
       "    .dataframe tbody tr th {\n",
       "        vertical-align: top;\n",
       "    }\n",
       "\n",
       "    .dataframe thead th {\n",
       "        text-align: right;\n",
       "    }\n",
       "</style>\n",
       "<table border=\"1\" class=\"dataframe\">\n",
       "  <thead>\n",
       "    <tr style=\"text-align: right;\">\n",
       "      <th></th>\n",
       "      <th>id</th>\n",
       "      <th>date</th>\n",
       "      <th>recency</th>\n",
       "      <th>frequency</th>\n",
       "      <th>monetary</th>\n",
       "      <th>average_time</th>\n",
       "      <th>r</th>\n",
       "      <th>f</th>\n",
       "      <th>m</th>\n",
       "      <th>rfm_group</th>\n",
       "    </tr>\n",
       "  </thead>\n",
       "  <tbody>\n",
       "    <tr>\n",
       "      <th>0</th>\n",
       "      <td>1</td>\n",
       "      <td>2012-04-26</td>\n",
       "      <td>0</td>\n",
       "      <td>51</td>\n",
       "      <td>3813.96</td>\n",
       "      <td>1.078431</td>\n",
       "      <td>1</td>\n",
       "      <td>1</td>\n",
       "      <td>1</td>\n",
       "      <td>111</td>\n",
       "    </tr>\n",
       "    <tr>\n",
       "      <th>1</th>\n",
       "      <td>2</td>\n",
       "      <td>2012-04-26</td>\n",
       "      <td>0</td>\n",
       "      <td>55</td>\n",
       "      <td>4348.78</td>\n",
       "      <td>1.000000</td>\n",
       "      <td>1</td>\n",
       "      <td>1</td>\n",
       "      <td>1</td>\n",
       "      <td>111</td>\n",
       "    </tr>\n",
       "    <tr>\n",
       "      <th>2</th>\n",
       "      <td>3</td>\n",
       "      <td>2012-04-26</td>\n",
       "      <td>0</td>\n",
       "      <td>25</td>\n",
       "      <td>445.35</td>\n",
       "      <td>2.200000</td>\n",
       "      <td>1</td>\n",
       "      <td>1</td>\n",
       "      <td>3</td>\n",
       "      <td>113</td>\n",
       "    </tr>\n",
       "  </tbody>\n",
       "</table>\n",
       "</div>"
      ],
      "text/plain": [
       "   id       date  recency  frequency  monetary  average_time  r  f  m  \\\n",
       "0   1 2012-04-26        0         51   3813.96      1.078431  1  1  1   \n",
       "1   2 2012-04-26        0         55   4348.78      1.000000  1  1  1   \n",
       "2   3 2012-04-26        0         25    445.35      2.200000  1  1  3   \n",
       "\n",
       "  rfm_group  \n",
       "0       111  \n",
       "1       111  \n",
       "2       113  "
      ]
     },
     "execution_count": 9,
     "metadata": {},
     "output_type": "execute_result"
    }
   ],
   "source": [
    "make_rfm(RFM)\n",
    "RFM.head(3)"
   ]
  },
  {
   "cell_type": "code",
   "execution_count": 10,
   "metadata": {},
   "outputs": [],
   "source": [
    "temp = [np.zeros((3,3)), np.zeros((3,3)), np.zeros((3,3))]\n",
    "for r in range(0,3):\n",
    "    for m in range(0,3):\n",
    "        for f in range(0,3):\n",
    "            rfm_group = str(r+1) + str(f+1) + str(m+1)\n",
    "            try:\n",
    "                temp[r][m,f] = RFM.rfm_group.value_counts()[rfm_group]                \n",
    "            except:# KeyError:\n",
    "                temp[r][m,f] = 0\n",
    "a = np.vstack((temp[0], temp[1], temp[2]))"
   ]
  },
  {
   "cell_type": "markdown",
   "metadata": {},
   "source": [
    "| R | F | M | \n",
    "| - | - | - |\n",
    "|111|112|113|\n",
    "|121|122|123|\n",
    "|131|132|133|\n",
    "| - | - | - |\n",
    "|211|212|213|\n",
    "|221|222|223|\n",
    "|231|232|233|\n",
    "| - | - | - |\n",
    "|311|312|313|\n",
    "|321|322|323|\n",
    "|331|332|333|\n"
   ]
  },
  {
   "cell_type": "code",
   "execution_count": 11,
   "metadata": {},
   "outputs": [
    {
     "data": {
      "text/plain": [
       "'\\n111 | \\n'"
      ]
     },
     "execution_count": 11,
     "metadata": {},
     "output_type": "execute_result"
    },
    {
     "data": {
      "image/png": "[encoded data removed]",
      "text/plain": [
       "<Figure size 720x720 with 2 Axes>"
      ]
     },
     "metadata": {
      "needs_background": "light"
     },
     "output_type": "display_data"
    }
   ],
   "source": [
    "fig, ax = plt.subplots(1,1, figsize=(10,10))\n",
    "ax = sns.heatmap(a, annot=True, fmt='.0f')\n",
    "ax.set_ylim([0,9])\n",
    "\n",
    "'''\n",
    "111 | \n",
    "'''"
   ]
  },
  {
   "cell_type": "code",
   "execution_count": 12,
   "metadata": {},
   "outputs": [
    {
     "name": "stdout",
     "output_type": "stream",
     "text": [
      "(7081, 9)\n",
      "(2063, 9)\n",
      "(7655, 9)\n",
      "(2018, 9)\n",
      "(7456, 9)\n",
      "(2028, 9)\n"
     ]
    }
   ],
   "source": [
    "# create train, test, val datasets\n",
    "# train\n",
    "train = transactions[transactions.date < trainEndDate]\n",
    "trainEval = transactions[(transactions.date >= trainEndDate)&(transactions.date <= traineEvaluateDate)]\n",
    "# test\n",
    "test = transactions[(transactions.date >= testStartDate)&(transactions.date < testEndDate)]\n",
    "testEval = transactions[(transactions.date >= testEndDate)&(transactions.date <= testEvaluateDate)]\n",
    "# val\n",
    "val = transactions[(transactions.date >= valStartDate)&(transactions.date < valEndDate)]\n",
    "valEval = transactions[(transactions.date >= valEndDate)&(transactions.date <= valEvaluateDate)]\n",
    "\n",
    "for i in [train, trainEval, test, testEval, val, valEval]: print(i.shape)"
   ]
  },
  {
   "cell_type": "code",
   "execution_count": 13,
   "metadata": {},
   "outputs": [],
   "source": [
    "# Вычисление целевой перменной - сумма дохода за период по каждому клиенту\n",
    "\n",
    "def make_y_true(train, test):\n",
    "    '''\n",
    "    Parameters:\n",
    "    -------\n",
    "        train, test: pandas.DataFrame with columns: cust,sales\n",
    "    \n",
    "    Returns\n",
    "    -------\n",
    "    pandas.Series\n",
    "    \n",
    "    '''\n",
    "    test = test.groupby('id').sales.sum().rename('test')\n",
    "    var1 = train.groupby('id').sum().rename(columns={'sales':'train'})\n",
    "    # Учитываем в test только тех клиентов, которые есть в train\n",
    "    var2 = var1.merge(pd.DataFrame(test), left_on='id', right_on='id', how='left') \n",
    "    var2.test = var2.test.apply(lambda x: x if x>0 else 0)\n",
    "    y_true = var2.test\n",
    "   \n",
    "    return y_true\n",
    "\n",
    "# CLTV really\n",
    "yTrue_train = make_y_true(train, trainEval)\n",
    "yTrue_test = make_y_true(test, testEval)\n",
    "yTrue_val = make_y_true(val, valEval)"
   ]
  },
  {
   "cell_type": "code",
   "execution_count": 14,
   "metadata": {},
   "outputs": [],
   "source": [
    "# Блок для вычисления признаков клиентов по transaction log\n",
    "\n",
    "def shift_date(x): \n",
    "    # посмотрим на смещение во времени, через сколько была следующая покупка\n",
    "    x['shifted_date'] = x['date'].shift(-1) \n",
    "    return x\n",
    "\n",
    "\n",
    "\n",
    "def compute_rfm(x, end_calibration):\n",
    "    # функция на весь RFM\n",
    "    x['recency'] = (x['date'].max() - x['date'].min()).days\n",
    "    x['frequency'] = x['date'].count()-1\n",
    "    x['T'] = (end_calibration - x['date'].min()).days\n",
    "    x['monetary_value'] = x['sales'].mean()\n",
    "    return x\n",
    "\n",
    "def make_x(transactions, end_calibration):\n",
    "\n",
    "    # Вычисляем М параметр на покупателя и дату\n",
    "\n",
    "    train2 = transactions.sort_values(['date'], ascending=True)\\\n",
    "              .groupby(['id', 'date'], \n",
    "                        as_index=False)['sales'].sum()    \n",
    "    # RFM\n",
    "    train3 = train2.groupby(['id']).apply(lambda x: compute_rfm(x, end_calibration))\n",
    "    # отбираем 1 строку, которая показывает агрегированные данные пользователя\n",
    "    rfm = train3[['id', 'recency', 'frequency', 'T', 'monetary_value']].groupby(['id']).first()\n",
    "    \n",
    "    return rfm"
   ]
  },
  {
   "cell_type": "code",
   "execution_count": 15,
   "metadata": {},
   "outputs": [],
   "source": [
    "Xtrain = make_x(train, trainEndDate)\n",
    "Xtest = make_x(test, testEndDate)\n",
    "Xval = make_x(val, valEndDate)"
   ]
  },
  {
   "cell_type": "code",
   "execution_count": 16,
   "metadata": {},
   "outputs": [
    {
     "name": "stdout",
     "output_type": "stream",
     "text": [
      "(583, 4) (583,)\n",
      "(587, 4) (587,)\n",
      "(591, 4) (591,)\n"
     ]
    }
   ],
   "source": [
    "for i,j in ((Xtrain, yTrue_train), (Xtest, yTrue_test), (Xval, yTrue_val)):\n",
    "            print(i.shape, j.shape)"
   ]
  },
  {
   "cell_type": "code",
   "execution_count": 17,
   "metadata": {},
   "outputs": [],
   "source": [
    "# Xtrain.to_csv('Xtrain.csv')\n",
    "# Xtest.to_csv('Xtest.csv')\n",
    "# Xval.to_csv('Xval.csv')\n",
    "\n",
    "# yTrue_train.to_csv('yTrue_train.csv')\n",
    "# yTrue_test.to_csv('yTrue_test.csv')\n",
    "# yTrue_val.to_csv('yTrue_val.csv')"
   ]
  },
  {
   "cell_type": "code",
   "execution_count": 18,
   "metadata": {},
   "outputs": [],
   "source": [
    "import sklearn\n",
    "from sklearn.linear_model import LinearRegression, SGDRegressor, Lasso\n",
    "from sklearn.ensemble import RandomForestRegressor, GradientBoostingRegressor\n",
    "from sklearn.metrics import mean_absolute_error, r2_score"
   ]
  },
  {
   "cell_type": "code",
   "execution_count": 26,
   "metadata": {},
   "outputs": [],
   "source": [
    "modelLinReg = LinearRegression()\n",
    "modelLinReg.fit(Xtrain, yTrue_train)\n",
    "\n",
    "modelRF = RandomForestRegressor(max_depth=10, n_estimators=100)\n",
    "modelRF.fit(Xtrain, yTrue_train)\n",
    "\n",
    "modelGrBoost = GradientBoostingRegressor()\n",
    "modelGrBoost.fit(Xtrain, yTrue_train)\n",
    "\n",
    "# stacking\n",
    "class custommodel:\n",
    "    def __init__(self, *args):\n",
    "        self.models = args\n",
    "    def predict(self, x):\n",
    "        return np.array([m.predict(x) for m in self.models[0]]).mean(axis=0) # смешаем в пропорции 50/50\n",
    "    \n",
    "_ = custommodel([modelRF, modelGrBoost])\n",
    "\n",
    "# Мешок моделей\n",
    "bagWithModels = {'model_name':('LinReg', 'RF', 'GrBoost', 'RF+GrBoost'),  \n",
    "                'models': (modelLinReg, modelRF, modelGrBoost, _)}\n",
    "\n",
    "# Некоторые модели предсказывают отрицательные LTV\n",
    "# Поэтому в таких предсказаниях нужно заменять отрицательные значения на ноль\n",
    "\n",
    "def func(x):\n",
    "    return x if x>=0 else 0\n",
    "vfunc = np.vectorize(func)\n",
    "\n",
    "# RMSLE function\n",
    "\n",
    "def rmsle(ytrue, ypred):\n",
    "    '''\n",
    "    Parameters:\n",
    "    -------\n",
    "        ytrue, ypred: pandas.Series or  numpy.array\n",
    "    \n",
    "    Returns\n",
    "    -------\n",
    "    float\n",
    "    '''\n",
    "    return np.sqrt(((np.log(ypred + 1) - np.log(ytrue + 1))**2).mean())\n",
    "\n",
    "def fastEval(model, x, y):\n",
    "    '''Обучения и метрика быстро, для отладки'''\n",
    "    model.fit(x,y)\n",
    "    y_pr = vfunc(model.predict(x))\n",
    "    return rmsle(y, y_pr)\n",
    "\n",
    "metrics = (rmsle, mean_absolute_error, r2_score)\n",
    "metric_names = ('RMSLE', 'MAE', 'R2')\n",
    "yTrues = (yTrue_train, yTrue_test, yTrue_val)\n",
    "_names = ('_train', '_test', '_val')\n",
    "X = (Xtrain, Xtest, Xval)\n",
    "\n",
    "shape = (len(bagWithModels['model_name']), len(metric_names)*len(_names)) #(rows, cols)\n",
    "summary = pd.DataFrame(np.zeros(shape).reshape(shape), \n",
    "             columns=[mn+n for mn in metric_names for n in _names],\n",
    "             index=bagWithModels['model_name'])\n",
    "\n",
    "# Для каждой модели вычисляем метрики на train, test, val\n",
    "for model, model_name in zip(bagWithModels['models'], bagWithModels['model_name']):\n",
    "    for metric, metric_name in zip(metrics, metric_names):\n",
    "        for yTrue, x, _name in zip(yTrues, X, _names):\n",
    "            print(model_name, _name)\n",
    "            yPred = vfunc(model.predict(x)) # Делаем предсказание !vfunc!\n",
    "            summary.loc[model_name][metric_name+_name] = metric(yTrue, yPred) # Вычисляем метрику"
   ]
  },
  {
   "cell_type": "code",
   "execution_count": 27,
   "metadata": {},
   "outputs": [],
   "source": [
    "# Мешок моделей\n",
    "bagWithModels = {'model_name':('LinReg', 'RF', 'GrBoost', 'RF+GrBoost'),  \n",
    "                'models': (modelLinReg, modelRF, modelGrBoost, _)}"
   ]
  },
  {
   "cell_type": "code",
   "execution_count": 28,
   "metadata": {},
   "outputs": [],
   "source": [
    "# Некоторые модели предсказывают отрицательные LTV\n",
    "# Поэтому в таких предсказаниях нужно заменять отрицательные значения на ноль\n",
    "\n",
    "def func(x):\n",
    "    return x if x>=0 else 0\n",
    "vfunc = np.vectorize(func)"
   ]
  },
  {
   "cell_type": "code",
   "execution_count": 29,
   "metadata": {},
   "outputs": [],
   "source": [
    "# RMSLE function\n",
    "\n",
    "def rmsle(ytrue, ypred):\n",
    "    '''\n",
    "    Parameters:\n",
    "    -------\n",
    "        ytrue, ypred: pandas.Series or  numpy.array\n",
    "    \n",
    "    Returns\n",
    "    -------\n",
    "    float\n",
    "    '''\n",
    "    return np.sqrt(((np.log(ypred + 1) - np.log(ytrue + 1))**2).mean())\n",
    "\n",
    "def fastEval(model, x, y):\n",
    "    '''Обучения и метрика быстро, для отладки'''\n",
    "    model.fit(x,y)\n",
    "    y_pr = vfunc(model.predict(x))\n",
    "    return rmsle(y, y_pr)"
   ]
  },
  {
   "cell_type": "code",
   "execution_count": 30,
   "metadata": {},
   "outputs": [
    {
     "name": "stdout",
     "output_type": "stream",
     "text": [
      "LinReg _train\n",
      "LinReg _test\n",
      "LinReg _val\n",
      "LinReg _train\n",
      "LinReg _test\n",
      "LinReg _val\n",
      "LinReg _train\n",
      "LinReg _test\n",
      "LinReg _val\n",
      "RF _train\n",
      "RF _test\n",
      "RF _val\n",
      "RF _train\n",
      "RF _test\n",
      "RF _val\n",
      "RF _train\n",
      "RF _test\n",
      "RF _val\n",
      "GrBoost _train\n",
      "GrBoost _test\n",
      "GrBoost _val\n",
      "GrBoost _train\n",
      "GrBoost _test\n",
      "GrBoost _val\n",
      "GrBoost _train\n",
      "GrBoost _test\n",
      "GrBoost _val\n",
      "RF+GrBoost _train\n",
      "RF+GrBoost _test\n",
      "RF+GrBoost _val\n",
      "RF+GrBoost _train\n",
      "RF+GrBoost _test\n",
      "RF+GrBoost _val\n",
      "RF+GrBoost _train\n",
      "RF+GrBoost _test\n",
      "RF+GrBoost _val\n"
     ]
    }
   ],
   "source": [
    "metrics = (rmsle, mean_absolute_error, r2_score)\n",
    "metric_names = ('RMSLE', 'MAE', 'R2')\n",
    "yTrues = (yTrue_train, yTrue_test, yTrue_val)\n",
    "_names = ('_train', '_test', '_val')\n",
    "X = (Xtrain, Xtest, Xval)\n",
    "\n",
    "shape = (len(bagWithModels['model_name']), len(metric_names)*len(_names)) #(rows, cols)\n",
    "summary = pd.DataFrame(np.zeros(shape).reshape(shape), \n",
    "             columns=[mn+n for mn in metric_names for n in _names],\n",
    "             index=bagWithModels['model_name'])\n",
    "\n",
    "# Для каждой модели вычисляем метрики на train, test, val\n",
    "for model, model_name in zip(bagWithModels['models'], bagWithModels['model_name']):\n",
    "    for metric, metric_name in zip(metrics, metric_names):\n",
    "        for yTrue, x, _name in zip(yTrues, X, _names):\n",
    "            print(model_name, _name)\n",
    "            yPred = vfunc(model.predict(x)) # Делаем предсказание !vfunc!\n",
    "            summary.loc[model_name][metric_name+_name] = metric(yTrue, yPred) # Вычисляем метрику"
   ]
  },
  {
   "cell_type": "code",
   "execution_count": 31,
   "metadata": {},
   "outputs": [
    {
     "data": {
      "text/html": [
       "<div>\n",
       "<style scoped>\n",
       "    .dataframe tbody tr th:only-of-type {\n",
       "        vertical-align: middle;\n",
       "    }\n",
       "\n",
       "    .dataframe tbody tr th {\n",
       "        vertical-align: top;\n",
       "    }\n",
       "\n",
       "    .dataframe thead th {\n",
       "        text-align: right;\n",
       "    }\n",
       "</style>\n",
       "<table border=\"1\" class=\"dataframe\">\n",
       "  <thead>\n",
       "    <tr style=\"text-align: right;\">\n",
       "      <th></th>\n",
       "      <th>RMSLE_train</th>\n",
       "      <th>RMSLE_test</th>\n",
       "      <th>RMSLE_val</th>\n",
       "      <th>MAE_train</th>\n",
       "      <th>MAE_test</th>\n",
       "      <th>MAE_val</th>\n",
       "      <th>R2_train</th>\n",
       "      <th>R2_test</th>\n",
       "      <th>R2_val</th>\n",
       "    </tr>\n",
       "  </thead>\n",
       "  <tbody>\n",
       "    <tr>\n",
       "      <th>LinReg</th>\n",
       "      <td>1.419206</td>\n",
       "      <td>1.472888</td>\n",
       "      <td>1.415866</td>\n",
       "      <td>72.321979</td>\n",
       "      <td>77.293607</td>\n",
       "      <td>73.358120</td>\n",
       "      <td>0.461650</td>\n",
       "      <td>0.356753</td>\n",
       "      <td>0.449478</td>\n",
       "    </tr>\n",
       "    <tr>\n",
       "      <th>RF</th>\n",
       "      <td>1.047882</td>\n",
       "      <td>1.491392</td>\n",
       "      <td>1.366165</td>\n",
       "      <td>33.919632</td>\n",
       "      <td>80.295640</td>\n",
       "      <td>70.400244</td>\n",
       "      <td>0.898494</td>\n",
       "      <td>0.382384</td>\n",
       "      <td>0.476448</td>\n",
       "    </tr>\n",
       "    <tr>\n",
       "      <th>GrBoost</th>\n",
       "      <td>1.184617</td>\n",
       "      <td>1.449327</td>\n",
       "      <td>1.373294</td>\n",
       "      <td>47.802109</td>\n",
       "      <td>77.267970</td>\n",
       "      <td>69.568378</td>\n",
       "      <td>0.796658</td>\n",
       "      <td>0.394018</td>\n",
       "      <td>0.485650</td>\n",
       "    </tr>\n",
       "    <tr>\n",
       "      <th>RF+GrBoost</th>\n",
       "      <td>1.117851</td>\n",
       "      <td>1.465603</td>\n",
       "      <td>1.366318</td>\n",
       "      <td>40.292806</td>\n",
       "      <td>78.248380</td>\n",
       "      <td>69.066046</td>\n",
       "      <td>0.859040</td>\n",
       "      <td>0.402693</td>\n",
       "      <td>0.495606</td>\n",
       "    </tr>\n",
       "  </tbody>\n",
       "</table>\n",
       "</div>"
      ],
      "text/plain": [
       "            RMSLE_train  RMSLE_test  RMSLE_val  MAE_train   MAE_test  \\\n",
       "LinReg         1.419206    1.472888   1.415866  72.321979  77.293607   \n",
       "RF             1.047882    1.491392   1.366165  33.919632  80.295640   \n",
       "GrBoost        1.184617    1.449327   1.373294  47.802109  77.267970   \n",
       "RF+GrBoost     1.117851    1.465603   1.366318  40.292806  78.248380   \n",
       "\n",
       "              MAE_val  R2_train   R2_test    R2_val  \n",
       "LinReg      73.358120  0.461650  0.356753  0.449478  \n",
       "RF          70.400244  0.898494  0.382384  0.476448  \n",
       "GrBoost     69.568378  0.796658  0.394018  0.485650  \n",
       "RF+GrBoost  69.066046  0.859040  0.402693  0.495606  "
      ]
     },
     "execution_count": 31,
     "metadata": {},
     "output_type": "execute_result"
    }
   ],
   "source": [
    "summary"
   ]
  },
  {
   "cell_type": "code",
   "execution_count": null,
   "metadata": {},
   "outputs": [],
   "source": []
  }
 ],
 "metadata": {
  "kernelspec": {
   "display_name": "Python 3",
   "language": "python",
   "name": "python3"
  },
  "language_info": {
   "codemirror_mode": {
    "name": "ipython",
    "version": 3
   },
   "file_extension": ".py",
   "mimetype": "text/x-python",
   "name": "python",
   "nbconvert_exporter": "python",
   "pygments_lexer": "ipython3",
   "version": "3.8.5"
  }
 },
 "nbformat": 4,
 "nbformat_minor": 2
}
