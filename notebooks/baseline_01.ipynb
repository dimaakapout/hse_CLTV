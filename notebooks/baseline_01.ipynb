{
 "cells": [
  {
   "cell_type": "code",
   "execution_count": 1,
   "metadata": {},
   "outputs": [],
   "source": [
    "# !pip install lifetimes"
   ]
  },
  {
   "cell_type": "code",
   "execution_count": 2,
   "metadata": {},
   "outputs": [],
   "source": [
    "import pandas as pd\n",
    "import numpy as np\n",
    "import matplotlib.pyplot as plt\n",
    "import datetime as dt\n",
    "from sklearn.metrics import mean_squared_log_error\n",
    "\n",
    "from lifetimes import BetaGeoFitter\n",
    "from lifetimes.utils import summary_data_from_transaction_data\n",
    "from lifetimes import GammaGammaFitter\n",
    "\n",
    "data = pd.read_csv('transaction_log.csv')\n",
    "data.date = pd.to_datetime(data.date)\n",
    "\n",
    "# constant\n",
    "startDate = dt.date(1997, 1, 1) + dt.timedelta(208)\n",
    "# fixCustDate = dt.date(1997, 3, 25) \n",
    "trainEndDate = startDate + dt.timedelta(56) # dt.date(1997, 4, 22) \n",
    "testStartDate = trainEndDate + dt.timedelta(1) #\n",
    "testEndDate = testStartDate + dt.timedelta(28) \n",
    "endDate =  dt.date(1998, 6, 30) \n",
    "\n",
    "data = data.sort_values('date')\n",
    "data.index = data.date\n",
    "\n",
    "# train'n'test split\n",
    "train = data[startDate:trainEndDate].reset_index(drop=True)\n",
    "test = data[testStartDate:testEndDate].reset_index(drop=True)\n",
    "# train.shape, test.shape"
   ]
  },
  {
   "cell_type": "code",
   "execution_count": 3,
   "metadata": {},
   "outputs": [],
   "source": [
    "# Агрегированнные сведения о покупках клиентов\n",
    "\n",
    "trainWithMonetary = train.groupby('cust').sales.mean().rename('monetary_value')\n",
    "testWithMonetary = test.groupby('cust').sales.mean().rename('monetary_value')"
   ]
  },
  {
   "cell_type": "code",
   "execution_count": 4,
   "metadata": {},
   "outputs": [
    {
     "data": {
      "text/html": [
       "<div>\n",
       "<style scoped>\n",
       "    .dataframe tbody tr th:only-of-type {\n",
       "        vertical-align: middle;\n",
       "    }\n",
       "\n",
       "    .dataframe tbody tr th {\n",
       "        vertical-align: top;\n",
       "    }\n",
       "\n",
       "    .dataframe thead th {\n",
       "        text-align: right;\n",
       "    }\n",
       "</style>\n",
       "<table border=\"1\" class=\"dataframe\">\n",
       "  <thead>\n",
       "    <tr style=\"text-align: right;\">\n",
       "      <th></th>\n",
       "      <th>frequency</th>\n",
       "      <th>recency</th>\n",
       "      <th>T</th>\n",
       "    </tr>\n",
       "    <tr>\n",
       "      <th>cust</th>\n",
       "      <th></th>\n",
       "      <th></th>\n",
       "      <th></th>\n",
       "    </tr>\n",
       "  </thead>\n",
       "  <tbody>\n",
       "    <tr>\n",
       "      <td>4</td>\n",
       "      <td>0.0</td>\n",
       "      <td>0.0</td>\n",
       "      <td>51.0</td>\n",
       "    </tr>\n",
       "    <tr>\n",
       "      <td>114</td>\n",
       "      <td>0.0</td>\n",
       "      <td>0.0</td>\n",
       "      <td>14.0</td>\n",
       "    </tr>\n",
       "    <tr>\n",
       "      <td>228</td>\n",
       "      <td>1.0</td>\n",
       "      <td>21.0</td>\n",
       "      <td>46.0</td>\n",
       "    </tr>\n",
       "  </tbody>\n",
       "</table>\n",
       "</div>"
      ],
      "text/plain": [
       "      frequency  recency     T\n",
       "cust                          \n",
       "4           0.0      0.0  51.0\n",
       "114         0.0      0.0  14.0\n",
       "228         1.0     21.0  46.0"
      ]
     },
     "execution_count": 4,
     "metadata": {},
     "output_type": "execute_result"
    }
   ],
   "source": [
    "# to RFM (аналог)\n",
    "\n",
    "summary = summary_data_from_transaction_data(train, 'cust', 'date', observation_period_end=trainEndDate)\n",
    "summary.head(3)"
   ]
  },
  {
   "cell_type": "code",
   "execution_count": 5,
   "metadata": {},
   "outputs": [
    {
     "data": {
      "text/plain": [
       "<lifetimes.BetaGeoFitter: fitted with 298 subjects, a: 0.00, alpha: 48.81, b: 7500.21, r: 0.69>"
      ]
     },
     "execution_count": 5,
     "metadata": {},
     "output_type": "execute_result"
    }
   ],
   "source": [
    "# BG/NBD model. Предсказывает вероятность покупки \n",
    "# bgf.predict(t, summary['frequency'], summary['recency'], summary['T'])\n",
    "\n",
    "bgf = BetaGeoFitter(penalizer_coef=0.0)\n",
    "bgf.fit(summary['frequency'], summary['recency'], summary['T'])"
   ]
  },
  {
   "cell_type": "code",
   "execution_count": 6,
   "metadata": {},
   "outputs": [
    {
     "data": {
      "text/html": [
       "<div>\n",
       "<style scoped>\n",
       "    .dataframe tbody tr th:only-of-type {\n",
       "        vertical-align: middle;\n",
       "    }\n",
       "\n",
       "    .dataframe tbody tr th {\n",
       "        vertical-align: top;\n",
       "    }\n",
       "\n",
       "    .dataframe thead th {\n",
       "        text-align: right;\n",
       "    }\n",
       "</style>\n",
       "<table border=\"1\" class=\"dataframe\">\n",
       "  <thead>\n",
       "    <tr style=\"text-align: right;\">\n",
       "      <th></th>\n",
       "      <th>frequency</th>\n",
       "      <th>recency</th>\n",
       "      <th>T</th>\n",
       "      <th>monetary_value</th>\n",
       "    </tr>\n",
       "    <tr>\n",
       "      <th>cust</th>\n",
       "      <th></th>\n",
       "      <th></th>\n",
       "      <th></th>\n",
       "      <th></th>\n",
       "    </tr>\n",
       "  </thead>\n",
       "  <tbody>\n",
       "    <tr>\n",
       "      <td>228</td>\n",
       "      <td>1.0</td>\n",
       "      <td>21.0</td>\n",
       "      <td>46.0</td>\n",
       "      <td>30.355</td>\n",
       "    </tr>\n",
       "  </tbody>\n",
       "</table>\n",
       "</div>"
      ],
      "text/plain": [
       "      frequency  recency     T  monetary_value\n",
       "cust                                          \n",
       "228         1.0     21.0  46.0          30.355"
      ]
     },
     "execution_count": 6,
     "metadata": {},
     "output_type": "execute_result"
    }
   ],
   "source": [
    "# к summary добавим данные о покупках (нужно для оценки LTV), клиенты сделали > 1 покупки\n",
    "\n",
    "returning_customers_summary = summary.merge(trainWithMonetary, right_on='cust', left_on='cust')\n",
    "returning_customers_summary = returning_customers_summary[returning_customers_summary['frequency']>0]\n",
    "returning_customers_summary.head(1)"
   ]
  },
  {
   "cell_type": "code",
   "execution_count": 7,
   "metadata": {},
   "outputs": [
    {
     "data": {
      "text/plain": [
       "<lifetimes.GammaGammaFitter: fitted with 84 subjects, p: 13.56, q: 4.32, v: 8.77>"
      ]
     },
     "execution_count": 7,
     "metadata": {},
     "output_type": "execute_result"
    }
   ],
   "source": [
    "# Gamma-Gamma model\n",
    "\n",
    "# We can now estimate the average transaction value:\n",
    "# ggf.conditional_expected_average_profit(\n",
    "#         returning_customers_summary['frequency'],\n",
    "#         returning_customers_summary['monetary_value']\n",
    "#     ).head(10))\n",
    "\n",
    "\n",
    "ggf = GammaGammaFitter(penalizer_coef = 0)\n",
    "ggf.fit(returning_customers_summary['frequency'],\n",
    "        returning_customers_summary['monetary_value'])"
   ]
  },
  {
   "cell_type": "code",
   "execution_count": 8,
   "metadata": {},
   "outputs": [
    {
     "data": {
      "text/plain": [
       "cust\n",
       "228      16.611715\n",
       "441      17.865465\n",
       "564      31.609776\n",
       "1108     25.528175\n",
       "1251     20.176509\n",
       "           ...    \n",
       "22355    13.942215\n",
       "22471    19.281780\n",
       "23147    33.411120\n",
       "23507    12.248153\n",
       "23551    60.264414\n",
       "Name: clv, Length: 84, dtype: float64"
      ]
     },
     "execution_count": 8,
     "metadata": {},
     "output_type": "execute_result"
    }
   ],
   "source": [
    "y_pred = ggf.customer_lifetime_value(\n",
    "    bgf, #the model to use to predict the number of future transactions\n",
    "    returning_customers_summary['frequency'],\n",
    "    returning_customers_summary['recency'],\n",
    "    returning_customers_summary['T'],\n",
    "    returning_customers_summary['monetary_value'],\n",
    "    time=1, # months\n",
    "    discount_rate=0.01 # monthly discount rate ~ 12.7% annually\n",
    ")\n",
    "y_pred"
   ]
  },
  {
   "cell_type": "code",
   "execution_count": 9,
   "metadata": {},
   "outputs": [],
   "source": [
    "y_true = train.groupby('cust').sum().rename(columns={'sales':'clv_true'})"
   ]
  },
  {
   "cell_type": "code",
   "execution_count": 10,
   "metadata": {},
   "outputs": [
    {
     "name": "stderr",
     "output_type": "stream",
     "text": [
      "C:\\conda2020\\lib\\site-packages\\ipykernel_launcher.py:6: UserWarning: Pandas doesn't allow columns to be created via a new attribute name - see https://pandas.pydata.org/pandas-docs/stable/indexing.html#attribute-access\n",
      "  \n"
     ]
    },
    {
     "data": {
      "text/plain": [
       "2.986508086467258"
      ]
     },
     "execution_count": 10,
     "metadata": {},
     "output_type": "execute_result"
    }
   ],
   "source": [
    "# Оценки на train\n",
    "\n",
    "d = pd.DataFrame(data=trainWithMonetary)\n",
    "d = pd.DataFrame(data=y_pred)\n",
    "d =d.merge(pd.DataFrame(y_true), left_on='cust', right_on='cust', how='outer')\n",
    "d.sales = d.clv_true.apply(lambda x: x if x > 0 else 0)\n",
    "d.clv = d.clv.apply(lambda x: x if x > 0 else 0)\n",
    "ytrue = d.clv_true\n",
    "ypred = d.clv\n",
    "np.sqrt(mean_squared_log_error(ytrue, ypred))"
   ]
  },
  {
   "cell_type": "code",
   "execution_count": 11,
   "metadata": {},
   "outputs": [
    {
     "data": {
      "text/plain": [
       "clv          2313.314878\n",
       "clv_true    15930.310000\n",
       "dtype: float64"
      ]
     },
     "execution_count": 11,
     "metadata": {},
     "output_type": "execute_result"
    }
   ],
   "source": [
    "d.sum()"
   ]
  },
  {
   "cell_type": "code",
   "execution_count": null,
   "metadata": {},
   "outputs": [],
   "source": [
    "# оценки на тесте"
   ]
  },
  {
   "cell_type": "code",
   "execution_count": 12,
   "metadata": {},
   "outputs": [
    {
     "name": "stderr",
     "output_type": "stream",
     "text": [
      "C:\\conda2020\\lib\\site-packages\\ipykernel_launcher.py:18: UserWarning: Pandas doesn't allow columns to be created via a new attribute name - see https://pandas.pydata.org/pandas-docs/stable/indexing.html#attribute-access\n"
     ]
    },
    {
     "data": {
      "text/plain": [
       "3.7363837999227063"
      ]
     },
     "execution_count": 12,
     "metadata": {},
     "output_type": "execute_result"
    }
   ],
   "source": [
    "summary = summary_data_from_transaction_data(test, 'cust', 'date', observation_period_end=trainEndDate)\n",
    "returning_customers_summary = summary.merge(testWithMonetary, right_on='cust', left_on='cust')\n",
    "returning_customers_summary = returning_customers_summary[returning_customers_summary['frequency']>0]\n",
    "\n",
    "y_pred = ggf.customer_lifetime_value(\n",
    "    bgf, #the model to use to predict the number of future transactions\n",
    "    returning_customers_summary['frequency'],\n",
    "    returning_customers_summary['recency'],\n",
    "    returning_customers_summary['T'],\n",
    "    returning_customers_summary['monetary_value'],\n",
    "    time=1, # months\n",
    "    discount_rate=0.01 # monthly discount rate ~ 12.7% annually\n",
    ")\n",
    "\n",
    "d = pd.DataFrame(data=trainWithMonetary)\n",
    "d = pd.DataFrame(data=y_pred)\n",
    "d =d.merge(pd.DataFrame(y_true), left_on='cust', right_on='cust', how='outer')\n",
    "d.sales = d.clv_true.apply(lambda x: x if x > 0 else 0)\n",
    "d.clv = d.clv.apply(lambda x: x if x > 0 else 0)\n",
    "ytrue = d.clv_true\n",
    "ypred = d.clv\n",
    "np.sqrt(mean_squared_log_error(ytrue, ypred))"
   ]
  },
  {
   "cell_type": "code",
   "execution_count": 13,
   "metadata": {},
   "outputs": [
    {
     "data": {
      "text/plain": [
       "clv             0.00\n",
       "clv_true    15930.31\n",
       "dtype: float64"
      ]
     },
     "execution_count": 13,
     "metadata": {},
     "output_type": "execute_result"
    }
   ],
   "source": [
    "d.sum()"
   ]
  },
  {
   "cell_type": "code",
   "execution_count": 14,
   "metadata": {},
   "outputs": [
    {
     "data": {
      "text/html": [
       "<div>\n",
       "<style scoped>\n",
       "    .dataframe tbody tr th:only-of-type {\n",
       "        vertical-align: middle;\n",
       "    }\n",
       "\n",
       "    .dataframe tbody tr th {\n",
       "        vertical-align: top;\n",
       "    }\n",
       "\n",
       "    .dataframe thead th {\n",
       "        text-align: right;\n",
       "    }\n",
       "</style>\n",
       "<table border=\"1\" class=\"dataframe\">\n",
       "  <thead>\n",
       "    <tr style=\"text-align: right;\">\n",
       "      <th></th>\n",
       "      <th>clv</th>\n",
       "      <th>clv_true</th>\n",
       "    </tr>\n",
       "    <tr>\n",
       "      <th>cust</th>\n",
       "      <th></th>\n",
       "      <th></th>\n",
       "    </tr>\n",
       "  </thead>\n",
       "  <tbody>\n",
       "    <tr>\n",
       "      <td>4</td>\n",
       "      <td>0</td>\n",
       "      <td>14.96</td>\n",
       "    </tr>\n",
       "    <tr>\n",
       "      <td>114</td>\n",
       "      <td>0</td>\n",
       "      <td>22.97</td>\n",
       "    </tr>\n",
       "    <tr>\n",
       "      <td>228</td>\n",
       "      <td>0</td>\n",
       "      <td>60.71</td>\n",
       "    </tr>\n",
       "    <tr>\n",
       "      <td>441</td>\n",
       "      <td>0</td>\n",
       "      <td>61.29</td>\n",
       "    </tr>\n",
       "    <tr>\n",
       "      <td>564</td>\n",
       "      <td>0</td>\n",
       "      <td>117.94</td>\n",
       "    </tr>\n",
       "    <tr>\n",
       "      <td>...</td>\n",
       "      <td>...</td>\n",
       "      <td>...</td>\n",
       "    </tr>\n",
       "    <tr>\n",
       "      <td>23205</td>\n",
       "      <td>0</td>\n",
       "      <td>13.77</td>\n",
       "    </tr>\n",
       "    <tr>\n",
       "      <td>23385</td>\n",
       "      <td>0</td>\n",
       "      <td>68.63</td>\n",
       "    </tr>\n",
       "    <tr>\n",
       "      <td>23500</td>\n",
       "      <td>0</td>\n",
       "      <td>13.99</td>\n",
       "    </tr>\n",
       "    <tr>\n",
       "      <td>23507</td>\n",
       "      <td>0</td>\n",
       "      <td>37.11</td>\n",
       "    </tr>\n",
       "    <tr>\n",
       "      <td>23551</td>\n",
       "      <td>0</td>\n",
       "      <td>211.65</td>\n",
       "    </tr>\n",
       "  </tbody>\n",
       "</table>\n",
       "<p>298 rows × 2 columns</p>\n",
       "</div>"
      ],
      "text/plain": [
       "       clv  clv_true\n",
       "cust                \n",
       "4        0     14.96\n",
       "114      0     22.97\n",
       "228      0     60.71\n",
       "441      0     61.29\n",
       "564      0    117.94\n",
       "...    ...       ...\n",
       "23205    0     13.77\n",
       "23385    0     68.63\n",
       "23500    0     13.99\n",
       "23507    0     37.11\n",
       "23551    0    211.65\n",
       "\n",
       "[298 rows x 2 columns]"
      ]
     },
     "execution_count": 14,
     "metadata": {},
     "output_type": "execute_result"
    }
   ],
   "source": [
    "d"
   ]
  },
  {
   "cell_type": "code",
   "execution_count": null,
   "metadata": {},
   "outputs": [],
   "source": []
  }
 ],
 "metadata": {
  "kernelspec": {
   "display_name": "Python 3",
   "language": "python",
   "name": "python3"
  },
  "language_info": {
   "codemirror_mode": {
    "name": "ipython",
    "version": 3
   },
   "file_extension": ".py",
   "mimetype": "text/x-python",
   "name": "python",
   "nbconvert_exporter": "python",
   "pygments_lexer": "ipython3",
   "version": "3.7.4"
  }
 },
 "nbformat": 4,
 "nbformat_minor": 2
}
